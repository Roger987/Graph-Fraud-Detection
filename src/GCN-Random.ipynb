{
 "cells": [
  {
   "cell_type": "code",
   "execution_count": 1,
   "metadata": {},
   "outputs": [],
   "source": [
    "import pandas as pd\n",
    "import numpy as np\n",
    "from tqdm import tqdm\n",
    "import torch\n",
    "from torch_geometric.data import Data\n",
    "from torch_geometric.nn import GCNConv\n",
    "from torch.nn import Linear, Dropout\n",
    "from sklearn.preprocessing import StandardScaler\n",
    "from sklearn.utils.class_weight import compute_class_weight\n",
    "import torch.nn.functional\n",
    "from sklearn.metrics import confusion_matrix, precision_score, recall_score, f1_score, make_scorer\n",
    "from sklearn.model_selection import train_test_split"
   ]
  },
  {
   "cell_type": "code",
   "execution_count": 2,
   "metadata": {},
   "outputs": [
    {
     "name": "stderr",
     "output_type": "stream",
     "text": [
      "100%|████████████████████████████████████████████████████████████████████████████████████████████| 234355/234355 [00:00<00:00, 247882.97it/s]\n"
     ]
    },
    {
     "name": "stdout",
     "output_type": "stream",
     "text": [
      "cpu\n"
     ]
    }
   ],
   "source": [
    "# Caminhos dos arquivos\n",
    "classes_path = \"../elliptic_bitcoin_dataset/modified_elliptic_txs_classes.csv\"\n",
    "edges_path = \"../elliptic_bitcoin_dataset/modified_elliptic_txs_edgelist.csv\"\n",
    "features_path = \"../elliptic_bitcoin_dataset/modified_elliptic_txs_features.csv\"\n",
    "\n",
    "# Carregar os dados\n",
    "classes = pd.read_csv(classes_path)\n",
    "edges = pd.read_csv(edges_path)\n",
    "feat_cols = ['txId', 'time_step'] + [f'trans_feat_{i}' for i in range(93)] + [f'agg_feat_{i}' for i in range(72)]\n",
    "feats = pd.read_csv(features_path, header=None, names=feat_cols)\n",
    "\n",
    "# Pré-processamento dos dados\n",
    "classes.columns = ['txId', 'label']\n",
    "df = classes.set_index('txId').join(feats.set_index('txId'))\n",
    "\n",
    "# Criar mapeamento de nós\n",
    "all_nodes_dict = {tx_id: i for i, tx_id in enumerate(classes['txId'])}\n",
    "\n",
    "# Criar lista de arestas\n",
    "edges_list = [\n",
    "    (all_nodes_dict[edges['txId1'][i]], all_nodes_dict[edges['txId2'][i]])\n",
    "    for i in tqdm(range(len(edges)))\n",
    "    if edges['txId1'][i] in all_nodes_dict and edges['txId2'][i] in all_nodes_dict\n",
    "]\n",
    "edge_index = torch.tensor(edges_list, dtype=torch.long).T\n",
    "\n",
    "# Divisão aleatória dos dados em treino, validação e teste\n",
    "node_ids = torch.arange(len(df))  # Índices dos nós\n",
    "train_val_ids, test_ids = train_test_split(node_ids.cpu().numpy(), train_size=0.8, random_state=42)\n",
    "train_ids, val_ids = train_test_split(train_val_ids, train_size=0.8, random_state=42)\n",
    "\n",
    "# Máscaras\n",
    "train_mask = torch.zeros(len(df), dtype=torch.bool)\n",
    "train_mask[train_ids] = True\n",
    "\n",
    "val_mask = torch.zeros(len(df), dtype=torch.bool)\n",
    "val_mask[val_ids] = True\n",
    "\n",
    "test_mask = torch.zeros(len(df), dtype=torch.bool)\n",
    "test_mask[test_ids] = True\n",
    "\n",
    "# Escalonar recursos\n",
    "scaler = StandardScaler()\n",
    "scaled_features = scaler.fit_transform(df.iloc[train_ids, 2:])  # Somente dados de treino para fit\n",
    "scaled_features = scaler.transform(df.iloc[:, 2:])  # Transformar todos os dados\n",
    "\n",
    "# Node features e labels\n",
    "node_features = torch.cat(\n",
    "    (torch.tensor(df['time_step'].values).unsqueeze(1), torch.tensor(scaled_features, dtype=torch.float)), dim=1\n",
    ")\n",
    "label_mapping = {'1': 0, '2': 1, 'unknown': -1}\n",
    "labels = torch.tensor(classes['label'].map(label_mapping).values, dtype=torch.long)\n",
    "\n",
    "# Criar objeto do grafo\n",
    "data = Data(x=node_features, edge_index=edge_index, y=labels, train_mask=train_mask, val_mask=val_mask, test_mask=test_mask)\n",
    "\n",
    "# Verificar dispositivo\n",
    "device = torch.device('cuda' if torch.cuda.is_available() else 'cpu')\n",
    "print(device)\n",
    "data = data.to(device)\n"
   ]
  },
  {
   "cell_type": "code",
   "execution_count": 3,
   "metadata": {},
   "outputs": [
    {
     "data": {
      "text/plain": [
       "'time_step_column_index = 0 \\ntime_step = data.x[:, time_step_column_index]\\n\\ntrain_mask = (time_step >= 1) & (time_step <= 34)\\ntest_mask = (time_step >= 35) & (time_step <= 49)\\n\\ntrain_mask = train_mask.clone().detach().to(torch.bool)\\ntest_mask = test_mask.clone().detach().to(torch.bool)'"
      ]
     },
     "execution_count": 3,
     "metadata": {},
     "output_type": "execute_result"
    }
   ],
   "source": [
    "'''time_step_column_index = 0 \n",
    "time_step = data.x[:, time_step_column_index]\n",
    "\n",
    "train_mask = (time_step >= 1) & (time_step <= 34)\n",
    "test_mask = (time_step >= 35) & (time_step <= 49)\n",
    "\n",
    "train_mask = train_mask.clone().detach().to(torch.bool)\n",
    "test_mask = test_mask.clone().detach().to(torch.bool)'''"
   ]
  },
  {
   "cell_type": "code",
   "execution_count": 4,
   "metadata": {},
   "outputs": [
    {
     "data": {
      "text/plain": [
       "'train_mask = (time_step >= 1) & (time_step <= 24)\\nval_mask = (time_step >= 25) & (time_step <= 34)\\ntest_mask = (time_step >= 35) & (time_step <= 49)\\n\\n# Ensure the masks are boolean tensors\\ntrain_mask = train_mask.clone().detach().to(torch.bool)\\nval_mask = val_mask.clone().detach().to(torch.bool)\\ntest_mask = test_mask.clone().detach().to(torch.bool)'"
      ]
     },
     "execution_count": 4,
     "metadata": {},
     "output_type": "execute_result"
    }
   ],
   "source": [
    "'''train_mask = (time_step >= 1) & (time_step <= 24)\n",
    "val_mask = (time_step >= 25) & (time_step <= 34)\n",
    "test_mask = (time_step >= 35) & (time_step <= 49)\n",
    "\n",
    "# Ensure the masks are boolean tensors\n",
    "train_mask = train_mask.clone().detach().to(torch.bool)\n",
    "val_mask = val_mask.clone().detach().to(torch.bool)\n",
    "test_mask = test_mask.clone().detach().to(torch.bool)'''"
   ]
  },
  {
   "cell_type": "code",
   "execution_count": 5,
   "metadata": {},
   "outputs": [
    {
     "data": {
      "text/plain": [
       "'node_ids = torch.arange(data.num_nodes)\\n\\ntrain_val_ids, test_ids = train_test_split(\\n    node_ids.cpu().numpy(), \\n    train_size=0.8, \\n    random_state=42\\n)\\n\\ntrain_ids, val_ids = train_test_split(\\n    train_val_ids, \\n    train_size=0.8, \\n    random_state=42\\n)\\n\\ntrain_mask = torch.zeros(data.num_nodes, dtype=torch.bool)\\ntrain_mask[train_ids] = True\\n\\nval_mask = torch.zeros(data.num_nodes, dtype=torch.bool)\\nval_mask[val_ids] = True\\n\\ntest_mask = torch.zeros(data.num_nodes, dtype=torch.bool)\\ntest_mask[test_ids] = True'"
      ]
     },
     "execution_count": 5,
     "metadata": {},
     "output_type": "execute_result"
    }
   ],
   "source": [
    "'''node_ids = torch.arange(data.num_nodes)\n",
    "\n",
    "train_val_ids, test_ids = train_test_split(\n",
    "    node_ids.cpu().numpy(), \n",
    "    train_size=0.8, \n",
    "    random_state=42\n",
    ")\n",
    "\n",
    "train_ids, val_ids = train_test_split(\n",
    "    train_val_ids, \n",
    "    train_size=0.8, \n",
    "    random_state=42\n",
    ")\n",
    "\n",
    "train_mask = torch.zeros(data.num_nodes, dtype=torch.bool)\n",
    "train_mask[train_ids] = True\n",
    "\n",
    "val_mask = torch.zeros(data.num_nodes, dtype=torch.bool)\n",
    "val_mask[val_ids] = True\n",
    "\n",
    "test_mask = torch.zeros(data.num_nodes, dtype=torch.bool)\n",
    "test_mask[test_ids] = True'''"
   ]
  },
  {
   "cell_type": "code",
   "execution_count": 6,
   "metadata": {
    "scrolled": true
   },
   "outputs": [
    {
     "name": "stdout",
     "output_type": "stream",
     "text": [
      "GCN(\n",
      "  (gcn): GCNConv(166, 128)\n",
      "  (dropout): Dropout(p=0.5, inplace=False)\n",
      "  (out): Linear(in_features=128, out_features=2, bias=True)\n",
      ")\n",
      "2\n",
      "Epoch   0 | Loss: 0.93 | Acc: 58.36 | Val Loss: 0.9150 | Val Acc: 57.73%% | F1 (Val): 0.1714\n",
      "Epoch  10 | Loss: 0.42 | Acc: 90.34 | Val Loss: 0.4146 | Val Acc: 90.28%% | F1 (Val): 0.0082\n",
      "Epoch  20 | Loss: 0.38 | Acc: 90.29 | Val Loss: 0.3712 | Val Acc: 90.29%% | F1 (Val): 0.0294\n",
      "Epoch  30 | Loss: 0.35 | Acc: 91.19 | Val Loss: 0.3427 | Val Acc: 90.61%% | F1 (Val): 0.4031\n",
      "Epoch  40 | Loss: 0.33 | Acc: 91.71 | Val Loss: 0.3229 | Val Acc: 91.39%% | F1 (Val): 0.4588\n",
      "Epoch  50 | Loss: 0.32 | Acc: 92.16 | Val Loss: 0.3094 | Val Acc: 91.67%% | F1 (Val): 0.4597\n",
      "Epoch  60 | Loss: 0.31 | Acc: 92.20 | Val Loss: 0.2992 | Val Acc: 91.95%% | F1 (Val): 0.5521\n",
      "Epoch  70 | Loss: 0.30 | Acc: 92.29 | Val Loss: 0.2902 | Val Acc: 92.14%% | F1 (Val): 0.5721\n",
      "Epoch  80 | Loss: 0.29 | Acc: 92.50 | Val Loss: 0.2822 | Val Acc: 92.27%% | F1 (Val): 0.5750\n",
      "Epoch  90 | Loss: 0.28 | Acc: 92.58 | Val Loss: 0.2753 | Val Acc: 92.34%% | F1 (Val): 0.5945\n",
      "Epoch 100 | Loss: 0.27 | Acc: 92.75 | Val Loss: 0.2687 | Val Acc: 92.51%% | F1 (Val): 0.6045\n",
      "Epoch 110 | Loss: 0.27 | Acc: 92.93 | Val Loss: 0.2626 | Val Acc: 92.81%% | F1 (Val): 0.6285\n",
      "Epoch 120 | Loss: 0.26 | Acc: 93.21 | Val Loss: 0.2568 | Val Acc: 93.11%% | F1 (Val): 0.6465\n",
      "Epoch 130 | Loss: 0.25 | Acc: 93.38 | Val Loss: 0.2514 | Val Acc: 93.33%% | F1 (Val): 0.6612\n",
      "Epoch 140 | Loss: 0.25 | Acc: 93.56 | Val Loss: 0.2462 | Val Acc: 93.57%% | F1 (Val): 0.6752\n",
      "Epoch 150 | Loss: 0.24 | Acc: 93.83 | Val Loss: 0.2412 | Val Acc: 93.65%% | F1 (Val): 0.6810\n",
      "Epoch 160 | Loss: 0.23 | Acc: 94.05 | Val Loss: 0.2366 | Val Acc: 93.88%% | F1 (Val): 0.6939\n",
      "Epoch 170 | Loss: 0.23 | Acc: 94.23 | Val Loss: 0.2321 | Val Acc: 94.01%% | F1 (Val): 0.7009\n",
      "Epoch 180 | Loss: 0.22 | Acc: 94.36 | Val Loss: 0.2279 | Val Acc: 94.24%% | F1 (Val): 0.7136\n",
      "Epoch 190 | Loss: 0.22 | Acc: 94.55 | Val Loss: 0.2239 | Val Acc: 94.46%% | F1 (Val): 0.7266\n",
      "Epoch 200 | Loss: 0.22 | Acc: 94.71 | Val Loss: 0.2202 | Val Acc: 94.58%% | F1 (Val): 0.7323\n",
      "Epoch 210 | Loss: 0.21 | Acc: 94.80 | Val Loss: 0.2168 | Val Acc: 94.75%% | F1 (Val): 0.7399\n",
      "Epoch 220 | Loss: 0.21 | Acc: 94.89 | Val Loss: 0.2135 | Val Acc: 94.85%% | F1 (Val): 0.7445\n",
      "Epoch 230 | Loss: 0.20 | Acc: 94.95 | Val Loss: 0.2105 | Val Acc: 94.89%% | F1 (Val): 0.7463\n",
      "Epoch 240 | Loss: 0.20 | Acc: 95.02 | Val Loss: 0.2076 | Val Acc: 95.04%% | F1 (Val): 0.7535\n",
      "Epoch 250 | Loss: 0.20 | Acc: 95.06 | Val Loss: 0.2049 | Val Acc: 95.08%% | F1 (Val): 0.7553\n",
      "Epoch 260 | Loss: 0.19 | Acc: 95.12 | Val Loss: 0.2024 | Val Acc: 95.21%% | F1 (Val): 0.7623\n",
      "Epoch 270 | Loss: 0.19 | Acc: 95.16 | Val Loss: 0.2000 | Val Acc: 95.31%% | F1 (Val): 0.7668\n",
      "Epoch 280 | Loss: 0.19 | Acc: 95.19 | Val Loss: 0.1978 | Val Acc: 95.28%% | F1 (Val): 0.7658\n",
      "Epoch 290 | Loss: 0.19 | Acc: 95.23 | Val Loss: 0.1959 | Val Acc: 95.28%% | F1 (Val): 0.7654\n",
      "Epoch 300 | Loss: 0.18 | Acc: 95.28 | Val Loss: 0.1939 | Val Acc: 95.35%% | F1 (Val): 0.7689\n",
      "Epoch 310 | Loss: 0.18 | Acc: 95.36 | Val Loss: 0.1922 | Val Acc: 95.39%% | F1 (Val): 0.7711\n",
      "Epoch 320 | Loss: 0.18 | Acc: 95.41 | Val Loss: 0.1905 | Val Acc: 95.45%% | F1 (Val): 0.7739\n",
      "Epoch 330 | Loss: 0.18 | Acc: 95.45 | Val Loss: 0.1890 | Val Acc: 95.45%% | F1 (Val): 0.7742\n",
      "Epoch 340 | Loss: 0.18 | Acc: 95.48 | Val Loss: 0.1875 | Val Acc: 95.45%% | F1 (Val): 0.7742\n",
      "Epoch 350 | Loss: 0.17 | Acc: 95.53 | Val Loss: 0.1861 | Val Acc: 95.51%% | F1 (Val): 0.7772\n",
      "Epoch 360 | Loss: 0.17 | Acc: 95.59 | Val Loss: 0.1848 | Val Acc: 95.56%% | F1 (Val): 0.7798\n",
      "Epoch 370 | Loss: 0.17 | Acc: 95.63 | Val Loss: 0.1836 | Val Acc: 95.56%% | F1 (Val): 0.7795\n",
      "Epoch 380 | Loss: 0.17 | Acc: 95.70 | Val Loss: 0.1825 | Val Acc: 95.63%% | F1 (Val): 0.7833\n",
      "Epoch 390 | Loss: 0.17 | Acc: 95.73 | Val Loss: 0.1815 | Val Acc: 95.65%% | F1 (Val): 0.7849\n",
      "Epoch 400 | Loss: 0.17 | Acc: 95.76 | Val Loss: 0.1804 | Val Acc: 95.68%% | F1 (Val): 0.7860\n",
      "Epoch 410 | Loss: 0.16 | Acc: 95.81 | Val Loss: 0.1793 | Val Acc: 95.72%% | F1 (Val): 0.7875\n",
      "Epoch 420 | Loss: 0.16 | Acc: 95.83 | Val Loss: 0.1782 | Val Acc: 95.75%% | F1 (Val): 0.7888\n",
      "Epoch 430 | Loss: 0.16 | Acc: 95.87 | Val Loss: 0.1772 | Val Acc: 95.83%% | F1 (Val): 0.7931\n",
      "Epoch 440 | Loss: 0.16 | Acc: 95.88 | Val Loss: 0.1762 | Val Acc: 95.81%% | F1 (Val): 0.7926\n",
      "Epoch 450 | Loss: 0.16 | Acc: 95.92 | Val Loss: 0.1753 | Val Acc: 95.80%% | F1 (Val): 0.7921\n",
      "Epoch 460 | Loss: 0.16 | Acc: 95.96 | Val Loss: 0.1745 | Val Acc: 95.83%% | F1 (Val): 0.7931\n",
      "Epoch 470 | Loss: 0.15 | Acc: 96.02 | Val Loss: 0.1736 | Val Acc: 95.83%% | F1 (Val): 0.7934\n",
      "Epoch 480 | Loss: 0.15 | Acc: 96.05 | Val Loss: 0.1728 | Val Acc: 95.81%% | F1 (Val): 0.7931\n",
      "Epoch 490 | Loss: 0.15 | Acc: 96.11 | Val Loss: 0.1721 | Val Acc: 95.84%% | F1 (Val): 0.7942\n",
      "Epoch 500 | Loss: 0.15 | Acc: 96.15 | Val Loss: 0.1714 | Val Acc: 95.88%% | F1 (Val): 0.7955\n"
     ]
    }
   ],
   "source": [
    "##### Hyperparameters\n",
    "# embeddings length = 128\n",
    "# Leaky ReLU\n",
    "# lr = 0.02\n",
    "# weight_decay = 0.001\n",
    "# epochs = 251\n",
    "\n",
    "embeddings_length = 128\n",
    "lr = 0.0005\n",
    "weight_decay = 0.001\n",
    "epochs = 501\n",
    "\n",
    "'''embeddings_length = 100\n",
    "lr = 0.001\n",
    "weight_decay = 0.0005\n",
    "epochs = 1001'''\n",
    "\n",
    "train_losses, val_losses = [], []\n",
    "train_accuracies, val_accuracies = [], []\n",
    "\n",
    "# Define GCN model\n",
    "class GCN(torch.nn.Module):\n",
    "    def __init__(self, num_features, num_classes):\n",
    "        super().__init__()\n",
    "        self.gcn = GCNConv(num_features, embeddings_length)  # GCNConv layer, 3 output channels\n",
    "        self.dropout = Dropout()\n",
    "        self.out = Linear(embeddings_length, num_classes)    # Linear layer for classification output\n",
    "    \n",
    "    def forward(self, x, edge_index):\n",
    "        h = torch.nn.functional.leaky_relu(self.gcn(x, edge_index))   # Apply GCN and ReLU\n",
    "        h = self.dropout(h)\n",
    "        z = self.out(h)                      # Output layer\n",
    "        return h, z\n",
    "\n",
    "'''import torch.nn.functional as F\n",
    "\n",
    "class GCN(torch.nn.Module):\n",
    "    def __init__(self, num_features, hidden_dim, num_classes, dropout=0.3):\n",
    "        super().__init__()\n",
    "        self.conv1 = GCNConv(num_features, hidden_dim)\n",
    "        self.conv2 = GCNConv(hidden_dim, num_classes)\n",
    "        self.dropout = dropout\n",
    "\n",
    "    def forward(self, x, edge_index):\n",
    "        x = self.conv1(x, edge_index)\n",
    "        h = F.leaky_relu(x)\n",
    "        h = F.dropout(h, p=self.dropout, training=self.training)\n",
    "        \n",
    "        z = self.conv2(h, edge_index)\n",
    "        \n",
    "        return h, F.log_softmax(z, dim=1)'''\n",
    "\n",
    "# Initialize the model\n",
    "num_features = data.x.shape[1]  # Number of features (columns in x)\n",
    "num_classes = 2  # Number of classes (2 in this case)\n",
    "hidden_dim = embeddings_length\n",
    "model = GCN(num_features, num_classes).to(device)\n",
    "print(model)\n",
    "print(num_classes)\n",
    "\n",
    "# Loss function and optimizer\n",
    "\n",
    "valid_labels = classes['label'].map(label_mapping)\n",
    "valid_labels = valid_labels[valid_labels != -1]  # Exclude 'unknown'\n",
    "\n",
    "# Convert to a PyTorch tensor for use in the loss function\n",
    "class_weights_tensor = torch.tensor([0.7, 0.3], dtype=torch.float).to(device)\n",
    "\n",
    "# Define the loss function with class weights\n",
    "criterion = torch.nn.CrossEntropyLoss(weight=class_weights_tensor).to(device)\n",
    "\n",
    "#criterion = torch.nn.CrossEntropyLoss()\n",
    "optimizer = torch.optim.Adam(model.parameters(), lr=lr, weight_decay=weight_decay)\n",
    "\n",
    "# Accuracy calculation function\n",
    "def accuracy(pred_y, y):\n",
    "    return (pred_y == y).sum() / len(y)\n",
    "\n",
    "def calculate_metrics(y_true, y_pred, target_class=0):\n",
    "    precision = precision_score(y_true, y_pred, pos_label=target_class, zero_division=0)\n",
    "    recall = recall_score(y_true, y_pred, pos_label=target_class, zero_division=0)\n",
    "    f1 = f1_score(y_true, y_pred, pos_label=target_class, zero_division=0)\n",
    "    return precision, recall, f1\n",
    "val_f1_scores = []\n",
    "train_f1_scores = []\n",
    "\n",
    "# Training loop\n",
    "for epoch in range(epochs):\n",
    "    optimizer.zero_grad()\n",
    "    h, z = model(data.x, data.edge_index)  # h: embeddings, z: logits\n",
    "\n",
    "    # Exclude unlabeled nodes from the loss calculation\n",
    "    mask = data.y[train_mask] != -1  \n",
    "    loss = criterion(z[train_mask][mask], data.y[train_mask][mask]) # Compute loss\n",
    "    \n",
    "    loss.backward()                         # Backpropagate\n",
    "    optimizer.step()                        # Update model parameters\n",
    "\n",
    "    acc = accuracy(z[train_mask].argmax(dim=1)[mask], data.y[train_mask][mask])  # Calculate accuracy\n",
    "    train_precision, train_recall, train_f1 = calculate_metrics(data.y[train_mask][mask], z[train_mask].argmax(dim=1)[mask])\n",
    "\n",
    "    model.eval() \n",
    "    with torch.no_grad():\n",
    "        mask_val = data.y[val_mask] != -1  \n",
    "        val_loss = criterion(z[val_mask][mask_val], data.y[val_mask][mask_val])\n",
    "        val_acc = accuracy(z[val_mask].argmax(dim=1)[mask_val], data.y[val_mask][mask_val])\n",
    "\n",
    "        val_y_true = data.y[val_mask][mask_val].cpu().numpy()\n",
    "        val_y_pred = z[val_mask][mask_val].argmax(dim=1).cpu().numpy()\n",
    "        val_precision, val_recall, val_f1 = calculate_metrics(val_y_true, val_y_pred)\n",
    "\n",
    "    train_losses.append(loss.item())\n",
    "    train_accuracies.append(acc.item())\n",
    "    val_losses.append(val_loss.item())\n",
    "    val_accuracies.append(val_acc.item())\n",
    "    val_f1_scores.append(val_f1)\n",
    "    train_f1_scores.append(train_f1)\n",
    "    \n",
    "    if epoch % 10 == 0:\n",
    "        print(f'Epoch {epoch:>3} | Loss: {loss:.2f} | Acc: {acc*100:.2f} | Val Loss: {val_loss:.4f} | Val Acc: {val_acc*100:.2f}%% | F1 (Val): {val_f1:.4f}')\n"
   ]
  },
  {
   "cell_type": "code",
   "execution_count": 7,
   "metadata": {},
   "outputs": [
    {
     "data": {
      "image/png": "[encoded data removed]",
      "text/plain": [
       "<Figure size 1600x500 with 3 Axes>"
      ]
     },
     "metadata": {},
     "output_type": "display_data"
    }
   ],
   "source": [
    "import matplotlib.pyplot as plt\n",
    "\n",
    "# Plotting the results\n",
    "plt.figure(figsize=(16, 5))\n",
    "\n",
    "# Plot Losses\n",
    "plt.subplot(1, 3, 1)\n",
    "plt.plot(train_losses, label='Train Loss')\n",
    "plt.plot(val_losses, label='Validation Loss', linestyle='--')\n",
    "plt.xlabel('Epochs')\n",
    "plt.ylabel('Loss')\n",
    "plt.title('Loss vs Epochs')\n",
    "plt.legend()\n",
    "\n",
    "# Plot Accuracies\n",
    "plt.subplot(1, 3, 2)\n",
    "plt.plot(train_accuracies, label='Train Accuracy')\n",
    "plt.plot(val_accuracies, label='Validation Accuracy', linestyle='--')\n",
    "plt.xlabel('Epochs')\n",
    "plt.ylabel('Accuracy')\n",
    "plt.title('Accuracy vs Epochs')\n",
    "plt.legend()\n",
    "\n",
    "# Plot F1\n",
    "plt.subplot(1, 3, 3)\n",
    "plt.plot(train_f1_scores, label='Train F1 (Illicit)')\n",
    "plt.plot(val_f1_scores, label='Validation F1 (Illicit)', linestyle='--')\n",
    "plt.xlabel('Epochs')\n",
    "plt.ylabel('F1 Score (Illicit)')\n",
    "plt.title('F-1 Score (Illicit) vs Epochs')\n",
    "plt.legend()\n",
    "\n",
    "plt.savefig('training_gcn_random.png', format='png', dpi=300)\n",
    "\n",
    "plt.tight_layout()\n",
    "plt.show() "
   ]
  },
  {
   "cell_type": "code",
   "execution_count": 8,
   "metadata": {},
   "outputs": [],
   "source": [
    "# Extract node embeddings\n",
    "model.eval()\n",
    "with torch.no_grad():\n",
    "    embeddings, z = model(data.x, data.edge_index)  # h: embeddings\n",
    "\n",
    "time_step = torch.tensor(df['time_step'].values, dtype=torch.float)\n",
    "# Ensure alignment of txId and labels with embeddings\n",
    "# The order in `data.x` corresponds to `classes['txId']` due to how `all_nodes_dict` was built\n",
    "aligned_df = pd.DataFrame({\n",
    "    'txId': classes['txId'],  # Use the original node order\n",
    "    'time_step': time_step.cpu().numpy(),  # Extract time_step from the GCN input\n",
    "    'label': classes['label']  # Use the original labels\n",
    "})\n",
    "\n",
    "# Add embeddings\n",
    "embeddings_df = pd.concat([aligned_df, pd.DataFrame(embeddings.cpu().numpy())], axis=1)\n",
    "\n",
    "# Save to CSV\n",
    "embeddings_df.to_csv('../data/embeddings_gcn.csv', index=False)\n"
   ]
  },
  {
   "cell_type": "code",
   "execution_count": 9,
   "metadata": {},
   "outputs": [
    {
     "name": "stdout",
     "output_type": "stream",
     "text": [
      "Test Accuracy: 95.45%\n",
      "Precision node embeddings (gcn): 0.7732919254658385\n",
      "Recall node embeddings (gcn): 0.7863157894736842\n",
      "F1 node embeddings (gcn): 0.7797494780793319\n"
     ]
    }
   ],
   "source": [
    "from sklearn.ensemble import RandomForestClassifier\n",
    "from sklearn.model_selection import cross_val_score\n",
    "\n",
    "mask_test = data.y[test_mask] != -1 \n",
    "\n",
    "predictions = z[test_mask][mask_test].argmax(dim=1).cpu().numpy()\n",
    "true_labels = data.y[test_mask][mask_test].cpu().numpy()\n",
    "\n",
    "test_accuracy = accuracy(predictions, true_labels)\n",
    "precision_ilicit_test = precision_score(true_labels, predictions, pos_label=0)\n",
    "recall_ilicit_test = recall_score(true_labels, predictions, pos_label=0)\n",
    "f1_ilicit_test = f1_score(true_labels, predictions, pos_label=0, zero_division=0)\n",
    "\n",
    "print(f\"Test Accuracy: {test_accuracy * 100:.2f}%\")\n",
    "print(f'Precision node embeddings (gcn): {precision_ilicit_test}')\n",
    "print(f'Recall node embeddings (gcn): {recall_ilicit_test}')\n",
    "print(f'F1 node embeddings (gcn): {f1_ilicit_test}')"
   ]
  },
  {
   "cell_type": "code",
   "execution_count": 10,
   "metadata": {},
   "outputs": [
    {
     "data": {
      "text/plain": [
       "'embeddings_df.drop(embeddings_df[embeddings_df[\"label\"] == \"unknown\"].index, inplace=True)\\ny = embeddings_df[\\'label\\']\\nX = embeddings_df.drop(columns=[\\'label\\'])'"
      ]
     },
     "execution_count": 10,
     "metadata": {},
     "output_type": "execute_result"
    }
   ],
   "source": [
    "'''embeddings_df.drop(embeddings_df[embeddings_df[\"label\"] == \"unknown\"].index, inplace=True)\n",
    "y = embeddings_df['label']\n",
    "X = embeddings_df.drop(columns=['label'])'''"
   ]
  },
  {
   "cell_type": "code",
   "execution_count": 11,
   "metadata": {},
   "outputs": [
    {
     "data": {
      "text/plain": [
       "\"X_train_gcn = X[X['time_step'].between(1, 34)]\\ny_train_gcn = y[X['time_step'].between(1, 34)]\\n\\nX_test_gcn = X[X['time_step'].between(35, 49)]\\ny_test_gcn = y[X['time_step'].between(35, 49)]\""
      ]
     },
     "execution_count": 11,
     "metadata": {},
     "output_type": "execute_result"
    }
   ],
   "source": [
    "'''X_train_gcn = X[X['time_step'].between(1, 34)]\n",
    "y_train_gcn = y[X['time_step'].between(1, 34)]\n",
    "\n",
    "X_test_gcn = X[X['time_step'].between(35, 49)]\n",
    "y_test_gcn = y[X['time_step'].between(35, 49)]'''"
   ]
  },
  {
   "cell_type": "code",
   "execution_count": 12,
   "metadata": {},
   "outputs": [
    {
     "data": {
      "text/plain": [
       "\"X_train_gcn = X_train_gcn.drop(columns=['time_step','txId'])\\nX_test_gcn = X_test_gcn.drop(columns=['time_step','txId'])\""
      ]
     },
     "execution_count": 12,
     "metadata": {},
     "output_type": "execute_result"
    }
   ],
   "source": [
    "'''X_train_gcn = X_train_gcn.drop(columns=['time_step','txId'])\n",
    "X_test_gcn = X_test_gcn.drop(columns=['time_step','txId'])'''"
   ]
  },
  {
   "cell_type": "code",
   "execution_count": 15,
   "metadata": {},
   "outputs": [],
   "source": [
    "embeddings_df = embeddings_df.reset_index(drop=True)\n",
    "\n",
    "train_indices = torch.nonzero(train_mask, as_tuple=True)[0].cpu().numpy()\n",
    "val_indices = torch.nonzero(val_mask, as_tuple=True)[0].cpu().numpy()\n",
    "test_indices = torch.nonzero(test_mask, as_tuple=True)[0].cpu().numpy()\n",
    "\n",
    "y = embeddings_df['label']\n",
    "X = embeddings_df.drop(columns=['label'])\n",
    "\n",
    "X_train_gcn = X.iloc[train_indices]\n",
    "y_train_gcn = y.iloc[train_indices]\n",
    "\n",
    "X_val_gcn = X.iloc[val_indices]\n",
    "y_val_gcn = y.iloc[val_indices]\n",
    "\n",
    "X_test_gcn = X.iloc[test_indices]\n",
    "y_test_gcn = y.iloc[test_indices]\n",
    "\n",
    "X_train_gcn = X_train_gcn[y_train_gcn != \"unknown\"].drop(columns=['time_step', 'txId'])\n",
    "y_train_gcn = y_train_gcn[y_train_gcn != \"unknown\"]\n",
    "\n",
    "X_val_gcn = X_val_gcn[y_val_gcn != \"unknown\"].drop(columns=['time_step', 'txId'])\n",
    "y_val_gcn = y_val_gcn[y_val_gcn != \"unknown\"]\n",
    "\n",
    "X_test_gcn = X_test_gcn[y_test_gcn != \"unknown\"].drop(columns=['time_step', 'txId'])\n",
    "y_test_gcn = y_test_gcn[y_test_gcn != \"unknown\"]\n",
    "\n",
    "X_train_rf = pd.concat([X_train_gcn, X_val_gcn])\n",
    "y_train_rf = pd.concat([y_train_gcn, y_val_gcn])"
   ]
  },
  {
   "cell_type": "code",
   "execution_count": 16,
   "metadata": {},
   "outputs": [
    {
     "name": "stdout",
     "output_type": "stream",
     "text": [
      "Precision node embeddings (gcn): 0.9420505200594353\n",
      "Recall node embeddings (gcn): 0.6673684210526316\n",
      "F1 node embeddings (gcn): 0.7812692544670363\n",
      "Cross-validated F1 Score node embeddings (gcn): 0.46760242604500324\n"
     ]
    }
   ],
   "source": [
    "from sklearn.ensemble import RandomForestClassifier\n",
    "from sklearn.metrics import confusion_matrix, precision_score, recall_score, f1_score, make_scorer\n",
    "from sklearn.model_selection import cross_val_score\n",
    "\n",
    "clf_gcn = RandomForestClassifier(n_estimators = 100, random_state=42)  \n",
    "clf_gcn.fit(X_train_gcn, y_train_gcn)\n",
    "y_pred_gcn = clf_gcn.predict(X_test_gcn)\n",
    "\n",
    "precision_ilicit_gcn = precision_score(y_test_gcn, y_pred_gcn, pos_label='1')\n",
    "recall_ilicit_gcn = recall_score(y_test_gcn, y_pred_gcn, pos_label='1')\n",
    "f1_ilicit_gcn = f1_score(y_test_gcn, y_pred_gcn, pos_label='1')\n",
    "f1_scorer_gcn = make_scorer(f1_score, pos_label='1')\n",
    "scores_gcn = cross_val_score(clf_gcn, X_train_gcn, y_train_gcn, cv=5, scoring=f1_scorer_gcn)\n",
    "\n",
    "print(f'Precision node embeddings (gcn): {precision_ilicit_gcn}')\n",
    "print(f'Recall node embeddings (gcn): {recall_ilicit_gcn}')\n",
    "print(f'F1 node embeddings (gcn): {f1_ilicit_gcn}')\n",
    "print(\"Cross-validated F1 Score node embeddings (gcn):\", scores_gcn.mean())"
   ]
  },
  {
   "cell_type": "code",
   "execution_count": 17,
   "metadata": {},
   "outputs": [
    {
     "data": {
      "text/plain": [
       "(29803, 128)"
      ]
     },
     "execution_count": 17,
     "metadata": {},
     "output_type": "execute_result"
    }
   ],
   "source": [
    "X_train_gcn.shape"
   ]
  },
  {
   "cell_type": "code",
   "execution_count": 18,
   "metadata": {},
   "outputs": [
    {
     "name": "stdout",
     "output_type": "stream",
     "text": [
      "Illicit (class 0): 4545\n",
      "Licit (class 1): 42019\n"
     ]
    }
   ],
   "source": [
    "# Remove the unknown (-1) labels by masking them out\n",
    "valid_labels = labels[labels != -1]\n",
    "\n",
    "# Count the occurrences of each valid label (0 for illicit, 1 for licit)\n",
    "label_counts = torch.bincount(valid_labels)\n",
    "\n",
    "# Print the counts for each label\n",
    "print(f\"Illicit (class 0): {label_counts[0].item()}\")\n",
    "print(f\"Licit (class 1): {label_counts[1].item()}\")"
   ]
  },
  {
   "cell_type": "code",
   "execution_count": 19,
   "metadata": {},
   "outputs": [
    {
     "name": "stdout",
     "output_type": "stream",
     "text": [
      "Training set size: 130412\n",
      "Validation set size: 32603\n",
      "Test set size: 40754\n"
     ]
    }
   ],
   "source": [
    "train_size = (train_mask).sum().item()\n",
    "val_size = (val_mask).sum().item()\n",
    "test_size = (test_mask).sum().item()\n",
    "\n",
    "# Print the sizes of the sets\n",
    "print(f\"Training set size: {train_size}\")\n",
    "print(f\"Validation set size: {val_size}\")\n",
    "print(f\"Test set size: {test_size}\")"
   ]
  },
  {
   "cell_type": "code",
   "execution_count": 20,
   "metadata": {},
   "outputs": [],
   "source": [
    "import torch\n",
    "\n",
    "# Substituir os valores de 'unknown' (-1) por um valor maior para não interferir na contagem das classes 0 e 1\n",
    "labels_modified = labels.clone()\n",
    "labels_modified[labels == -1] = 2  # Substitui -1 por 2, por exemplo\n",
    "\n",
    "# Calcular a frequência das classes para ajustar os pesos\n",
    "class_counts = torch.bincount(labels_modified)\n",
    "total_samples = len(labels)\n",
    "class_weights = total_samples / (len(class_counts) * class_counts.float())\n",
    "\n",
    "# Definir os pesos para as classes 0 e 1 (ignorando a classe 'unknown' que foi mapeada para 2)\n",
    "weights = class_weights[:2]  # Apenas as classes 0 e 1\n"
   ]
  },
  {
   "cell_type": "code",
   "execution_count": 21,
   "metadata": {},
   "outputs": [
    {
     "data": {
      "text/plain": [
       "tensor([14.9446,  1.6165])"
      ]
     },
     "execution_count": 21,
     "metadata": {},
     "output_type": "execute_result"
    }
   ],
   "source": [
    "weights"
   ]
  },
  {
   "cell_type": "code",
   "execution_count": 22,
   "metadata": {},
   "outputs": [
    {
     "data": {
      "text/plain": [
       "tensor([  4545,  42019, 157205])"
      ]
     },
     "execution_count": 22,
     "metadata": {},
     "output_type": "execute_result"
    }
   ],
   "source": [
    "class_counts"
   ]
  },
  {
   "cell_type": "code",
   "execution_count": null,
   "metadata": {},
   "outputs": [],
   "source": []
  }
 ],
 "metadata": {
  "kernelspec": {
   "display_name": "Python 3 (ipykernel)",
   "language": "python",
   "name": "python3"
  },
  "language_info": {
   "codemirror_mode": {
    "name": "ipython",
    "version": 3
   },
   "file_extension": ".py",
   "mimetype": "text/x-python",
   "name": "python",
   "nbconvert_exporter": "python",
   "pygments_lexer": "ipython3",
   "version": "3.12.1"
  }
 },
 "nbformat": 4,
 "nbformat_minor": 4
}
