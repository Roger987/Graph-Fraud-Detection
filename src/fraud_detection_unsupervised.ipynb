{
 "cells": [
  {
   "cell_type": "code",
   "execution_count": 1,
   "metadata": {},
   "outputs": [],
   "source": [
    "import pandas as pd\n",
    "import numpy as np\n",
    "import igraph as ig\n",
    "from tqdm import tqdm\n",
    "import networkx as nx\n",
    "import matplotlib.pyplot as plt"
   ]
  },
  {
   "cell_type": "code",
   "execution_count": 2,
   "metadata": {},
   "outputs": [],
   "source": [
    "classes_path = \"../elliptic_bitcoin_dataset/elliptic_txs_classes.csv\"\n",
    "edges_path = \"../elliptic_bitcoin_dataset/elliptic_txs_edgelist.csv\"\n",
    "features_path = \"../elliptic_bitcoin_dataset/elliptic_txs_features.csv\"\n",
    "\n",
    "classes = pd.read_csv(classes_path)\n",
    "edges = pd.read_csv(edges_path)\n",
    "feat_cols = ['txId', 'time_step'] + [f'trans_feat_{i}' for i in range(93)] + [f'agg_feat_{i}' for i in range(72)]\n",
    "feats = pd.read_csv(features_path, header=None, names=feat_cols)\n",
    "classes.columns = ['txId', 'label']\n",
    "df = classes.set_index('txId').join(feats.set_index('txId'))"
   ]
  },
  {
   "cell_type": "code",
   "execution_count": 3,
   "metadata": {},
   "outputs": [
    {
     "name": "stderr",
     "output_type": "stream",
     "text": [
      "100%|████████████████████████████████████████████████████████████| 234355/234355 [00:00<00:00, 265730.97it/s]\n"
     ]
    }
   ],
   "source": [
    "label_colors = {'1':'red', '2':'green', 'unknown':'gray'}\n",
    "\n",
    "tx_graph = ig.Graph(directed=True)\n",
    "\n",
    "edges_dict = {tx_id: i for i, tx_id in enumerate(classes['txId'])}\n",
    "\n",
    "tx_graph.add_vertices(len(classes))\n",
    "tx_graph.vs['id'] = list(classes['txId'])\n",
    "tx_graph.vs['type'] = list(classes['label'])\n",
    "tx_graph.vs['time_step'] = list(feats['time_step'])\n",
    "tx_graph.vs['color'] = [label_colors[label] for label in classes['label']]\n",
    "\n",
    "edges_list = [(edges_dict[edges['txId1'][i]], edges_dict[edges['txId2'][i]]) for i in tqdm(range(len(edges)))]\n",
    "tx_graph.add_edges(edges_list)"
   ]
  },
  {
   "cell_type": "code",
   "execution_count": 4,
   "metadata": {},
   "outputs": [],
   "source": [
    "betweenness = tx_graph.betweenness(directed=True)\n",
    "df.insert(1, 'betweenness', betweenness, True)"
   ]
  },
  {
   "cell_type": "code",
   "execution_count": 5,
   "metadata": {},
   "outputs": [],
   "source": [
    "centralities = tx_graph.closeness()\n",
    "df.insert(1, 'closeness', centralities, True)"
   ]
  },
  {
   "cell_type": "code",
   "execution_count": 6,
   "metadata": {},
   "outputs": [],
   "source": [
    "in_degree = tx_graph.degree(mode=\"in\")\n",
    "df.insert(1, 'in-degree', in_degree)"
   ]
  },
  {
   "cell_type": "code",
   "execution_count": 7,
   "metadata": {},
   "outputs": [],
   "source": [
    "out_degree = tx_graph.degree(mode='out')\n",
    "df.insert(1, 'out-degree', out_degree)"
   ]
  },
  {
   "cell_type": "code",
   "execution_count": 8,
   "metadata": {},
   "outputs": [],
   "source": [
    "clustering_coeff = tx_graph.transitivity_local_undirected(mode='zero')\n",
    "df.insert(1, 'clustering_coeff', clustering_coeff)"
   ]
  },
  {
   "cell_type": "code",
   "execution_count": 9,
   "metadata": {},
   "outputs": [
    {
     "data": {
      "text/html": [
       "<div>\n",
       "<style scoped>\n",
       "    .dataframe tbody tr th:only-of-type {\n",
       "        vertical-align: middle;\n",
       "    }\n",
       "\n",
       "    .dataframe tbody tr th {\n",
       "        vertical-align: top;\n",
       "    }\n",
       "\n",
       "    .dataframe thead th {\n",
       "        text-align: right;\n",
       "    }\n",
       "</style>\n",
       "<table border=\"1\" class=\"dataframe\">\n",
       "  <thead>\n",
       "    <tr style=\"text-align: right;\">\n",
       "      <th></th>\n",
       "      <th>label</th>\n",
       "      <th>pagerank</th>\n",
       "      <th>clustering_coeff</th>\n",
       "      <th>out-degree</th>\n",
       "      <th>in-degree</th>\n",
       "      <th>closeness</th>\n",
       "      <th>betweenness</th>\n",
       "      <th>time_step</th>\n",
       "      <th>trans_feat_0</th>\n",
       "      <th>trans_feat_1</th>\n",
       "      <th>...</th>\n",
       "      <th>agg_feat_62</th>\n",
       "      <th>agg_feat_63</th>\n",
       "      <th>agg_feat_64</th>\n",
       "      <th>agg_feat_65</th>\n",
       "      <th>agg_feat_66</th>\n",
       "      <th>agg_feat_67</th>\n",
       "      <th>agg_feat_68</th>\n",
       "      <th>agg_feat_69</th>\n",
       "      <th>agg_feat_70</th>\n",
       "      <th>agg_feat_71</th>\n",
       "    </tr>\n",
       "    <tr>\n",
       "      <th>txId</th>\n",
       "      <th></th>\n",
       "      <th></th>\n",
       "      <th></th>\n",
       "      <th></th>\n",
       "      <th></th>\n",
       "      <th></th>\n",
       "      <th></th>\n",
       "      <th></th>\n",
       "      <th></th>\n",
       "      <th></th>\n",
       "      <th></th>\n",
       "      <th></th>\n",
       "      <th></th>\n",
       "      <th></th>\n",
       "      <th></th>\n",
       "      <th></th>\n",
       "      <th></th>\n",
       "      <th></th>\n",
       "      <th></th>\n",
       "      <th></th>\n",
       "      <th></th>\n",
       "    </tr>\n",
       "  </thead>\n",
       "  <tbody>\n",
       "    <tr>\n",
       "      <th>230425980</th>\n",
       "      <td>unknown</td>\n",
       "      <td>0.000004</td>\n",
       "      <td>0.000000</td>\n",
       "      <td>1</td>\n",
       "      <td>1</td>\n",
       "      <td>0.092392</td>\n",
       "      <td>14.000000</td>\n",
       "      <td>1</td>\n",
       "      <td>-0.171469</td>\n",
       "      <td>-0.184668</td>\n",
       "      <td>...</td>\n",
       "      <td>-0.562153</td>\n",
       "      <td>-0.600999</td>\n",
       "      <td>1.461330</td>\n",
       "      <td>1.461369</td>\n",
       "      <td>0.018279</td>\n",
       "      <td>-0.087490</td>\n",
       "      <td>-0.131155</td>\n",
       "      <td>-0.097524</td>\n",
       "      <td>-0.120613</td>\n",
       "      <td>-0.119792</td>\n",
       "    </tr>\n",
       "    <tr>\n",
       "      <th>5530458</th>\n",
       "      <td>unknown</td>\n",
       "      <td>0.000005</td>\n",
       "      <td>0.000000</td>\n",
       "      <td>1</td>\n",
       "      <td>1</td>\n",
       "      <td>0.084580</td>\n",
       "      <td>8.000000</td>\n",
       "      <td>1</td>\n",
       "      <td>-0.171484</td>\n",
       "      <td>-0.184668</td>\n",
       "      <td>...</td>\n",
       "      <td>0.947382</td>\n",
       "      <td>0.673103</td>\n",
       "      <td>-0.979074</td>\n",
       "      <td>-0.978556</td>\n",
       "      <td>0.018279</td>\n",
       "      <td>-0.087490</td>\n",
       "      <td>-0.131155</td>\n",
       "      <td>-0.097524</td>\n",
       "      <td>-0.120613</td>\n",
       "      <td>-0.119792</td>\n",
       "    </tr>\n",
       "    <tr>\n",
       "      <th>232022460</th>\n",
       "      <td>unknown</td>\n",
       "      <td>0.000005</td>\n",
       "      <td>0.000000</td>\n",
       "      <td>2</td>\n",
       "      <td>1</td>\n",
       "      <td>0.134507</td>\n",
       "      <td>30.000000</td>\n",
       "      <td>1</td>\n",
       "      <td>-0.172107</td>\n",
       "      <td>-0.184668</td>\n",
       "      <td>...</td>\n",
       "      <td>0.670883</td>\n",
       "      <td>0.439728</td>\n",
       "      <td>-0.979074</td>\n",
       "      <td>-0.978556</td>\n",
       "      <td>-0.098889</td>\n",
       "      <td>-0.106715</td>\n",
       "      <td>-0.131155</td>\n",
       "      <td>-0.183671</td>\n",
       "      <td>-0.120613</td>\n",
       "      <td>-0.119792</td>\n",
       "    </tr>\n",
       "    <tr>\n",
       "      <th>232438397</th>\n",
       "      <td>2</td>\n",
       "      <td>0.000297</td>\n",
       "      <td>0.000621</td>\n",
       "      <td>1</td>\n",
       "      <td>160</td>\n",
       "      <td>0.155365</td>\n",
       "      <td>2355.000000</td>\n",
       "      <td>1</td>\n",
       "      <td>0.163054</td>\n",
       "      <td>1.963790</td>\n",
       "      <td>...</td>\n",
       "      <td>-0.577099</td>\n",
       "      <td>-0.613614</td>\n",
       "      <td>0.241128</td>\n",
       "      <td>0.241406</td>\n",
       "      <td>1.072793</td>\n",
       "      <td>0.085530</td>\n",
       "      <td>-0.131155</td>\n",
       "      <td>0.677799</td>\n",
       "      <td>-0.120613</td>\n",
       "      <td>-0.119792</td>\n",
       "    </tr>\n",
       "    <tr>\n",
       "      <th>230460314</th>\n",
       "      <td>unknown</td>\n",
       "      <td>0.000002</td>\n",
       "      <td>0.266667</td>\n",
       "      <td>8</td>\n",
       "      <td>2</td>\n",
       "      <td>0.100978</td>\n",
       "      <td>16.752381</td>\n",
       "      <td>1</td>\n",
       "      <td>1.011523</td>\n",
       "      <td>-0.081127</td>\n",
       "      <td>...</td>\n",
       "      <td>-0.511871</td>\n",
       "      <td>-0.400422</td>\n",
       "      <td>0.517257</td>\n",
       "      <td>0.579382</td>\n",
       "      <td>0.018279</td>\n",
       "      <td>0.277775</td>\n",
       "      <td>0.326394</td>\n",
       "      <td>1.293750</td>\n",
       "      <td>0.178136</td>\n",
       "      <td>0.179117</td>\n",
       "    </tr>\n",
       "  </tbody>\n",
       "</table>\n",
       "<p>5 rows × 173 columns</p>\n",
       "</div>"
      ],
      "text/plain": [
       "             label  pagerank  clustering_coeff  out-degree  in-degree  \\\n",
       "txId                                                                    \n",
       "230425980  unknown  0.000004          0.000000           1          1   \n",
       "5530458    unknown  0.000005          0.000000           1          1   \n",
       "232022460  unknown  0.000005          0.000000           2          1   \n",
       "232438397        2  0.000297          0.000621           1        160   \n",
       "230460314  unknown  0.000002          0.266667           8          2   \n",
       "\n",
       "           closeness  betweenness  time_step  trans_feat_0  trans_feat_1  ...  \\\n",
       "txId                                                                      ...   \n",
       "230425980   0.092392    14.000000          1     -0.171469     -0.184668  ...   \n",
       "5530458     0.084580     8.000000          1     -0.171484     -0.184668  ...   \n",
       "232022460   0.134507    30.000000          1     -0.172107     -0.184668  ...   \n",
       "232438397   0.155365  2355.000000          1      0.163054      1.963790  ...   \n",
       "230460314   0.100978    16.752381          1      1.011523     -0.081127  ...   \n",
       "\n",
       "           agg_feat_62  agg_feat_63  agg_feat_64  agg_feat_65  agg_feat_66  \\\n",
       "txId                                                                         \n",
       "230425980    -0.562153    -0.600999     1.461330     1.461369     0.018279   \n",
       "5530458       0.947382     0.673103    -0.979074    -0.978556     0.018279   \n",
       "232022460     0.670883     0.439728    -0.979074    -0.978556    -0.098889   \n",
       "232438397    -0.577099    -0.613614     0.241128     0.241406     1.072793   \n",
       "230460314    -0.511871    -0.400422     0.517257     0.579382     0.018279   \n",
       "\n",
       "           agg_feat_67  agg_feat_68  agg_feat_69  agg_feat_70  agg_feat_71  \n",
       "txId                                                                        \n",
       "230425980    -0.087490    -0.131155    -0.097524    -0.120613    -0.119792  \n",
       "5530458      -0.087490    -0.131155    -0.097524    -0.120613    -0.119792  \n",
       "232022460    -0.106715    -0.131155    -0.183671    -0.120613    -0.119792  \n",
       "232438397     0.085530    -0.131155     0.677799    -0.120613    -0.119792  \n",
       "230460314     0.277775     0.326394     1.293750     0.178136     0.179117  \n",
       "\n",
       "[5 rows x 173 columns]"
      ]
     },
     "execution_count": 9,
     "metadata": {},
     "output_type": "execute_result"
    }
   ],
   "source": [
    "pagerank_scores = tx_graph.pagerank(directed=True)\n",
    "df.insert(1, 'pagerank', pagerank_scores, True)\n",
    "df.head()"
   ]
  },
  {
   "cell_type": "code",
   "execution_count": 10,
   "metadata": {},
   "outputs": [],
   "source": [
    "from sklearn.cluster import KMeans\n",
    "from sklearn.decomposition import PCA\n",
    "from sklearn.preprocessing import StandardScaler"
   ]
  },
  {
   "cell_type": "code",
   "execution_count": 12,
   "metadata": {},
   "outputs": [],
   "source": [
    "#Transform the dataframe in a suitable input for KMeans. We drop the columns containing\n",
    "#the correct labels\n",
    "x = df.drop(columns=['label']).to_numpy()"
   ]
  },
  {
   "cell_type": "code",
   "execution_count": 13,
   "metadata": {},
   "outputs": [
    {
     "name": "stdout",
     "output_type": "stream",
     "text": [
      "\n",
      "Contingency Table:\n",
      "Original Label     1      2  unknown\n",
      "Cluster                             \n",
      "1               4545  42019   155084\n",
      "2                  0      0     2121\n",
      "\n",
      "Totals per cluster:\n",
      "Cluster\n",
      "1    201648\n",
      "2      2121\n",
      "dtype: int64\n"
     ]
    }
   ],
   "source": [
    "#k-means++ : selects initial cluster centroids using sampling based on an empirical probability distribution of the points’ contribution to the overall inertia\n",
    "kmeans = KMeans(n_clusters=2, random_state=0, n_init=\"auto\").fit_predict(x)\n",
    "kmeans += 1\n",
    "#The following results are obtained without apllying PCA\n",
    "contingency_table = pd.crosstab(index=kmeans, columns=df['label'], rownames=['Cluster'], colnames=['Original Label'])\n",
    "\n",
    "print(\"\\nContingency Table:\")\n",
    "print(contingency_table)\n",
    "\n",
    "# Calculate totals per label in each cluster\n",
    "totals_per_cluster = contingency_table.sum(axis=1)\n",
    "print(\"\\nTotals per cluster:\")\n",
    "print(totals_per_cluster)"
   ]
  },
  {
   "cell_type": "code",
   "execution_count": 14,
   "metadata": {},
   "outputs": [
    {
     "name": "stdout",
     "output_type": "stream",
     "text": [
      "[10.06120467  6.38645543  5.33283968  4.43307308  3.8917352   3.75413629\n",
      "  3.38358219  2.76272504  2.64374949  2.5719597 ]\n"
     ]
    }
   ],
   "source": [
    "#First set the dimensions of resulting features space\n",
    "number_of_dimensions = 10\n",
    "pca = PCA(n_components=number_of_dimensions)\n",
    "# pca=PCA()\n",
    "scaler = StandardScaler()\n",
    "#Standardize features by removing the mean and scaling to unit variance.\n",
    "#Note: scaler is sensible to outliers\n",
    "x_scaled = scaler.fit_transform(x)\n",
    "x_pca = pca.fit_transform(x_scaled)\n",
    "print(pca.explained_variance_ratio_*100)"
   ]
  },
  {
   "cell_type": "code",
   "execution_count": 15,
   "metadata": {},
   "outputs": [
    {
     "name": "stdout",
     "output_type": "stream",
     "text": [
      "[1877.83864544 1496.10895785 1367.13859705 1246.48118035 1167.89801963\n",
      " 1147.06571206 1088.98436739  984.0158921   962.59462205  949.43526766]\n"
     ]
    }
   ],
   "source": [
    "print(pca.singular_values_)"
   ]
  },
  {
   "cell_type": "code",
   "execution_count": 16,
   "metadata": {},
   "outputs": [
    {
     "name": "stdout",
     "output_type": "stream",
     "text": [
      "Labels: [1 2]\n",
      "Size of clusters: [194291   9478]\n"
     ]
    }
   ],
   "source": [
    "#fit and predict the cluster for each sample and then adjust them for coherence with original \n",
    "#class labels\n",
    "clusters = KMeans(n_clusters=2, random_state=0, n_init=\"auto\").fit_predict(x_pca)\n",
    "clusters += 1\n",
    "unique, counts = np.unique(clusters, return_counts=True)\n",
    "print('Labels:', unique)\n",
    "print('Size of clusters:', counts)\n"
   ]
  },
  {
   "cell_type": "code",
   "execution_count": 17,
   "metadata": {},
   "outputs": [
    {
     "data": {
      "image/png": "[encoded data removed]",
      "text/plain": [
       "<Figure size 1000x600 with 1 Axes>"
      ]
     },
     "metadata": {},
     "output_type": "display_data"
    }
   ],
   "source": [
    "#plotting the results:\n",
    "plt.figure(figsize=(10, 6))\n",
    "\n",
    "plt.scatter(x_pca[clusters == 1, 0], x_pca[clusters == 1, 1], c='red', label='licit', alpha=0.5)\n",
    "plt.scatter(x_pca[clusters == 2, 0], x_pca[clusters == 2, 1], c='blue', label='illicit', alpha=0.5)\n",
    "# Add labels and title\n",
    "plt.xlabel('Principal Component 1')\n",
    "plt.ylabel('Principal Component 2')\n",
    "plt.title('Clusters Visualized')\n",
    "plt.legend()\n",
    "plt.grid(True)\n",
    "\n",
    "# Show the plot\n",
    "plt.show()"
   ]
  },
  {
   "cell_type": "code",
   "execution_count": 40,
   "metadata": {},
   "outputs": [
    {
     "name": "stdout",
     "output_type": "stream",
     "text": [
      "\n",
      "Contingency Table:\n",
      "Original Label     1      2  unknown\n",
      "Cluster                             \n",
      "1               4545  34067   155679\n",
      "2                  0   7952     1526\n",
      "\n",
      "Totals per cluster:\n",
      "Cluster\n",
      "1    194291\n",
      "2      9478\n",
      "dtype: int64\n"
     ]
    }
   ],
   "source": [
    "# Create a contingency table to compare original labels with predicted clusters\n",
    "contingency_table = pd.crosstab(index=clusters, columns=df['label'], rownames=['Cluster'], colnames=['Original Label'])\n",
    "\n",
    "print(\"\\nContingency Table:\")\n",
    "print(contingency_table)\n",
    "\n",
    "# Calculate totals per label in each cluster\n",
    "totals_per_cluster = contingency_table.sum(axis=1)\n",
    "print(\"\\nTotals per cluster:\")\n",
    "print(totals_per_cluster)"
   ]
  },
  {
   "cell_type": "markdown",
   "metadata": {},
   "source": [
    "Clustering using only node-level features"
   ]
  },
  {
   "cell_type": "code",
   "execution_count": 37,
   "metadata": {},
   "outputs": [
    {
     "name": "stdout",
     "output_type": "stream",
     "text": [
      "[29.35899576 20.63271097 17.32933392 15.58742383 13.25459075  3.83694477]\n"
     ]
    }
   ],
   "source": [
    "number_node_level_features = 2\n",
    "node_level_features = df.iloc[:,1:1+number_node_level_features].to_numpy()\n",
    "\n",
    "pca = PCA()\n",
    "scaler = StandardScaler()\n",
    "#Standardize features by removing the mean and scaling to unit variance.\n",
    "node_level_features_scaled = scaler.fit_transform(node_level_features)\n",
    "node_level_features_pca = pca.fit_transform(node_level_features_scaled)\n",
    "print(pca.explained_variance_ratio_*100)"
   ]
  },
  {
   "cell_type": "code",
   "execution_count": 38,
   "metadata": {},
   "outputs": [
    {
     "name": "stdout",
     "output_type": "stream",
     "text": [
      "Labels: [1 2]\n",
      "Size of clusters: [  2057 201712]\n"
     ]
    }
   ],
   "source": [
    "clusters = KMeans(n_clusters=2, random_state=0, n_init=\"auto\").fit_predict(node_level_features_pca)\n",
    "clusters += 1\n",
    "unique, counts = np.unique(clusters, return_counts=True)\n",
    "print('Labels:', unique)\n",
    "print('Size of clusters:', counts)"
   ]
  },
  {
   "cell_type": "code",
   "execution_count": 39,
   "metadata": {},
   "outputs": [
    {
     "name": "stdout",
     "output_type": "stream",
     "text": [
      "Contingency Table:\n",
      "Original Label     1      2  unknown\n",
      "Cluster                             \n",
      "1                  1    225     1831\n",
      "2               4544  41794   155374\n",
      "Totals per cluster:\n",
      "Cluster\n",
      "1      2057\n",
      "2    201712\n",
      "dtype: int64\n"
     ]
    }
   ],
   "source": [
    "#The following results are obtained without apllying PCA\n",
    "contingency_table = pd.crosstab(index=clusters, columns=df['label'], rownames=['Cluster'], colnames=['Original Label'])\n",
    "\n",
    "print(\"Contingency Table:\")\n",
    "print(contingency_table)\n",
    "\n",
    "# Calculate totals per label in each cluster\n",
    "totals_per_cluster = contingency_table.sum(axis=1)\n",
    "print(\"Totals per cluster:\")\n",
    "print(totals_per_cluster)"
   ]
  },
  {
   "cell_type": "markdown",
   "metadata": {},
   "source": [
    "Clustering with the original dataset's features"
   ]
  },
  {
   "cell_type": "code",
   "execution_count": 55,
   "metadata": {},
   "outputs": [
    {
     "name": "stdout",
     "output_type": "stream",
     "text": [
      "[10.42259228  6.46578969  5.50267698  4.5479627   4.02907219  3.88907999\n",
      "  3.50324265  2.81590118  2.70329562  2.63726106  2.46685395  2.16594796]\n"
     ]
    }
   ],
   "source": [
    "dataset_features = 6\n",
    "dataset_features = df.iloc[:,1+number_node_level_features:].to_numpy()\n",
    "\n",
    "pca = PCA(12)\n",
    "scaler = StandardScaler()\n",
    "#Standardize features by removing the mean and scaling to unit variance.\n",
    "dataset_features_scaled = scaler.fit_transform(dataset_features)\n",
    "dataset_features_pca = pca.fit_transform(dataset_features_scaled)\n",
    "print(pca.explained_variance_ratio_*100)"
   ]
  },
  {
   "cell_type": "code",
   "execution_count": 56,
   "metadata": {},
   "outputs": [
    {
     "name": "stdout",
     "output_type": "stream",
     "text": [
      "Labels: [1 2]\n",
      "Size of clusters: [107644  96125]\n",
      "\n",
      "Contingency Table:\n",
      "Original Label     1      2  unknown\n",
      "Cluster                             \n",
      "1               2874  19943    84827\n",
      "2               1671  22076    72378\n",
      "Totals per cluster:\n",
      "Cluster\n",
      "1    107644\n",
      "2     96125\n",
      "dtype: int64\n"
     ]
    }
   ],
   "source": [
    "clusters = KMeans(n_clusters=2, random_state=0, n_init=\"auto\").fit_predict(dataset_features_pca)\n",
    "clusters += 1\n",
    "unique, counts = np.unique(clusters, return_counts=True)\n",
    "print('Labels:', unique)\n",
    "print('Size of clusters:', counts)#The following results are obtained without apllying PCA\n",
    "contingency_table = pd.crosstab(index=clusters, columns=df['label'], rownames=['Cluster'], colnames=['Original Label'])\n",
    "\n",
    "print(\"\\nContingency Table:\")\n",
    "print(contingency_table)\n",
    "\n",
    "# Calculate totals per label in each cluster\n",
    "totals_per_cluster = contingency_table.sum(axis=1)\n",
    "print(\"Totals per cluster:\")\n",
    "print(totals_per_cluster)"
   ]
  },
  {
   "cell_type": "code",
   "execution_count": null,
   "metadata": {},
   "outputs": [],
   "source": [
    "import igraph as ig\n",
    "import matplotlib.pyplot as plt\n",
    "\n",
    "filtered_vertices = [v.index for v in tx_graph.vs if v['color'] in ['red', 'green']]\n",
    "\n",
    "filtered_subgraph = tx_graph.subgraph(filtered_vertices)\n",
    "fig, ax = plt.subplots(figsize=(20, 20)) \n",
    "\n",
    "ig.plot(\n",
    "    filtered_subgraph,\n",
    "    vertex_size=10,\n",
    "    edge_width=0.5,\n",
    "    bbox=(800, 800), \n",
    "    margin=50,\n",
    "    target=ax\n",
    ")\n",
    "\n",
    "plt.show()\n"
   ]
  }
 ],
 "metadata": {
  "kernelspec": {
   "display_name": "Python 3 (ipykernel)",
   "language": "python",
   "name": "python3"
  },
  "language_info": {
   "codemirror_mode": {
    "name": "ipython",
    "version": 3
   },
   "file_extension": ".py",
   "mimetype": "text/x-python",
   "name": "python",
   "nbconvert_exporter": "python",
   "pygments_lexer": "ipython3",
   "version": "3.12.7"
  }
 },
 "nbformat": 4,
 "nbformat_minor": 4
}
