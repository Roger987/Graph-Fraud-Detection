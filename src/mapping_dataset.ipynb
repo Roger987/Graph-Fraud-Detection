{
 "cells": [
  {
   "cell_type": "code",
   "execution_count": 1,
   "metadata": {},
   "outputs": [],
   "source": [
    "import pandas as pd\n"
   ]
  },
  {
   "cell_type": "markdown",
   "metadata": {},
   "source": [
    "### Map our dataset to be used in GNNs"
   ]
  },
  {
   "cell_type": "code",
   "execution_count": 2,
   "metadata": {},
   "outputs": [
    {
     "name": "stdout",
     "output_type": "stream",
     "text": [
      "   txId    class\n",
      "0     0  unknown\n",
      "1  5577  unknown\n",
      "2     1  unknown\n",
      "3   537        2\n",
      "4     2  unknown\n",
      "   txId1  txId2\n",
      "0      0   5577\n",
      "1      1    537\n",
      "2      2   1885\n",
      "3      3   2807\n",
      "4      4   4133\n",
      "   txId  time_step  trans_feat_0  trans_feat_1  trans_feat_2  trans_feat_3  \\\n",
      "0     0          1     -0.171469     -0.184668     -1.201369     -0.121970   \n",
      "1  5577          1     -0.171484     -0.184668     -1.201369     -0.121970   \n",
      "2     1          1     -0.172107     -0.184668     -1.201369     -0.121970   \n",
      "3   537          1      0.163054      1.963790     -0.646376     12.409294   \n",
      "4     2          1      1.011523     -0.081127     -1.201369      1.153668   \n",
      "\n",
      "   trans_feat_4  trans_feat_5  trans_feat_6  trans_feat_7  ...  agg_feat_62  \\\n",
      "0     -0.043875     -0.113002     -0.061584     -0.162097  ...    -0.562153   \n",
      "1     -0.043875     -0.113002     -0.061584     -0.162112  ...     0.947382   \n",
      "2     -0.043875     -0.113002     -0.061584     -0.162749  ...     0.670883   \n",
      "3     -0.063725      9.782742     12.414558     -0.163645  ...    -0.577099   \n",
      "4      0.333276      1.312656     -0.061584     -0.163523  ...    -0.511871   \n",
      "\n",
      "   agg_feat_63  agg_feat_64  agg_feat_65  agg_feat_66  agg_feat_67  \\\n",
      "0    -0.600999     1.461330     1.461369     0.018279    -0.087490   \n",
      "1     0.673103    -0.979074    -0.978556     0.018279    -0.087490   \n",
      "2     0.439728    -0.979074    -0.978556    -0.098889    -0.106715   \n",
      "3    -0.613614     0.241128     0.241406     1.072793     0.085530   \n",
      "4    -0.400422     0.517257     0.579382     0.018279     0.277775   \n",
      "\n",
      "   agg_feat_68  agg_feat_69  agg_feat_70  agg_feat_71  \n",
      "0    -0.131155    -0.097524    -0.120613    -0.119792  \n",
      "1    -0.131155    -0.097524    -0.120613    -0.119792  \n",
      "2    -0.131155    -0.183671    -0.120613    -0.119792  \n",
      "3    -0.131155     0.677799    -0.120613    -0.119792  \n",
      "4     0.326394     1.293750     0.178136     0.179117  \n",
      "\n",
      "[5 rows x 167 columns]\n"
     ]
    }
   ],
   "source": [
    "# Paths of the CSV files\n",
    "classes_path = \"../elliptic_bitcoin_dataset/elliptic_txs_classes.csv\"\n",
    "edges_path = \"../elliptic_bitcoin_dataset/elliptic_txs_edgelist.csv\"\n",
    "features_path = \"../elliptic_bitcoin_dataset/elliptic_txs_features.csv\"\n",
    "\n",
    "# Define the column names\n",
    "feat_cols = ['txId', 'time_step'] + [f'trans_feat_{i}' for i in range(93)] + [f'agg_feat_{i}' for i in range(72)]\n",
    "\n",
    "# Load the data\n",
    "classes = pd.read_csv(classes_path)\n",
    "edges = pd.read_csv(edges_path)\n",
    "features = pd.read_csv(features_path, header=None, names=feat_cols)\n",
    "\n",
    "# Step 1: Create a list of all unique IDs (both from the classes and edges)\n",
    "all_ids = pd.concat([edges['txId1'], edges['txId2'], classes['txId'], features['txId']]).unique()\n",
    "\n",
    "# Step 2: Create the mapping between the original IDs and numeric IDs from 0 to N-1 (where N is the total number of nodes)\n",
    "id_mapping = {old_id: new_id for new_id, old_id in enumerate(all_ids)}\n",
    "\n",
    "# Map the IDs in the classes file\n",
    "classes['txId'] = classes['txId'].map(id_mapping)\n",
    "\n",
    "# Map the IDs in the edges file\n",
    "edges['txId1'] = edges['txId1'].map(id_mapping)\n",
    "edges['txId2'] = edges['txId2'].map(id_mapping)\n",
    "\n",
    "# Map the IDs in the features file\n",
    "features['txId'] = features['txId'].map(id_mapping)\n",
    "\n",
    "# Step 4: Save the modified files\n",
    "classes.to_csv(\"../elliptic_bitcoin_dataset/modified_elliptic_txs_classes.csv\", index=False)\n",
    "edges.to_csv(\"../elliptic_bitcoin_dataset/modified_elliptic_txs_edgelist.csv\", index=False)\n",
    "features.to_csv(\"../elliptic_bitcoin_dataset/modified_elliptic_txs_features.csv\", index=False, header=False)\n",
    "\n",
    "print(classes.head())\n",
    "print(edges.head())\n",
    "print(features.head())\n",
    "\n",
    "\n",
    "\n"
   ]
  },
  {
   "cell_type": "code",
   "execution_count": null,
   "metadata": {},
   "outputs": [],
   "source": []
  }
 ],
 "metadata": {
  "kernelspec": {
   "display_name": "Python 3 (ipykernel)",
   "language": "python",
   "name": "python3"
  },
  "language_info": {
   "codemirror_mode": {
    "name": "ipython",
    "version": 3
   },
   "file_extension": ".py",
   "mimetype": "text/x-python",
   "name": "python",
   "nbconvert_exporter": "python",
   "pygments_lexer": "ipython3",
   "version": "3.12.1"
  }
 },
 "nbformat": 4,
 "nbformat_minor": 4
}
