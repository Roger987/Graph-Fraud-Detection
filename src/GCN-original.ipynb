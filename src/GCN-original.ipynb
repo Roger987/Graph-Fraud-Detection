{
 "cells": [
  {
   "cell_type": "code",
   "execution_count": 1,
   "metadata": {},
   "outputs": [],
   "source": [
    "import pandas as pd\n",
    "import numpy as np\n",
    "from tqdm import tqdm\n",
    "import torch\n",
    "from torch_geometric.data import Data\n",
    "from torch_geometric.nn import GCNConv\n",
    "from torch.nn import Linear, Dropout\n",
    "from sklearn.preprocessing import StandardScaler\n",
    "from sklearn.utils.class_weight import compute_class_weight\n",
    "import torch.nn.functional\n",
    "from sklearn.metrics import confusion_matrix, precision_score, recall_score, f1_score, make_scorer"
   ]
  },
  {
   "cell_type": "code",
   "execution_count": 2,
   "metadata": {},
   "outputs": [
    {
     "name": "stderr",
     "output_type": "stream",
     "text": [
      "100%|██████████████████████████████████████████████████████████████████████████████████████████████████████████████| 234355/234355 [00:00<00:00, 248947.27it/s]\n"
     ]
    },
    {
     "name": "stdout",
     "output_type": "stream",
     "text": [
      "cpu\n"
     ]
    }
   ],
   "source": [
    "classes_path = \"../elliptic_bitcoin_dataset/modified_elliptic_txs_classes.csv\"\n",
    "edges_path = \"../elliptic_bitcoin_dataset/modified_elliptic_txs_edgelist.csv\"\n",
    "features_path = \"../elliptic_bitcoin_dataset/modified_elliptic_txs_features.csv\"\n",
    "\n",
    "classes = pd.read_csv(classes_path)\n",
    "edges = pd.read_csv(edges_path)\n",
    "feat_cols = ['txId', 'time_step'] + [f'trans_feat_{i}' for i in range(93)] + [f'agg_feat_{i}' for i in range(72)]\n",
    "feats = pd.read_csv(features_path, header=None, names=feat_cols)\n",
    "\n",
    "# Preprocess the classes DataFrame\n",
    "classes.columns = ['txId', 'label']\n",
    "df = classes.set_index('txId').join(feats.set_index('txId'))\n",
    "\n",
    "# Create a mapping for all nodes\n",
    "all_nodes_dict = {tx_id: i for i, tx_id in enumerate(classes['txId'])}\n",
    "\n",
    "# Create edges list with all nodes\n",
    "edges_list = [\n",
    "    (all_nodes_dict[edges['txId1'][i]], all_nodes_dict[edges['txId2'][i]])\n",
    "    for i in tqdm(range(len(edges)))\n",
    "    if edges['txId1'][i] in all_nodes_dict and edges['txId2'][i] in all_nodes_dict\n",
    "]\n",
    "edge_index = torch.tensor(edges_list, dtype=torch.long).T\n",
    "\n",
    "train_data = df[(df['time_step'] >= 1) & (df['time_step'] <= 24)]\n",
    "val_data = df[(df['time_step'] >= 25) & (df['time_step'] <= 34)]\n",
    "test_data = df[(df['time_step'] >= 35) & (df['time_step'] <= 49)]\n",
    "\n",
    "feature_columns = df.columns[2:]\n",
    "\n",
    "scaler = StandardScaler()\n",
    "scaled_train_features = scaler.fit_transform(train_data[feature_columns])\n",
    "scaled_val_features = scaler.transform(val_data[feature_columns])\n",
    "scaled_test_features = scaler.transform(test_data[feature_columns])\n",
    "\n",
    "train_features = torch.cat(\n",
    "    (torch.tensor(train_data['time_step'].values).unsqueeze(1), \n",
    "     torch.tensor(scaled_train_features, dtype=torch.float)), dim=1\n",
    ")\n",
    "val_features = torch.cat(\n",
    "    (torch.tensor(val_data['time_step'].values).unsqueeze(1), \n",
    "     torch.tensor(scaled_val_features, dtype=torch.float)), dim=1\n",
    ")\n",
    "test_features = torch.cat(\n",
    "    (torch.tensor(test_data['time_step'].values).unsqueeze(1), \n",
    "     torch.tensor(scaled_test_features, dtype=torch.float)), dim=1\n",
    ")\n",
    "\n",
    "# Convert node features and labels    Parameter to (V) choose features used\n",
    "#node_features = torch.tensor(df.iloc[:, 1:].values, dtype=torch.float)\n",
    "time_step = torch.tensor(df['time_step'].values, dtype=torch.float)\n",
    "\n",
    "# Combine time_step back with scaled features\n",
    "#node_features = torch.cat((time_step.unsqueeze(1), torch.tensor(scaled_features, dtype=torch.float)), dim=1)\n",
    "node_features = torch.cat(\n",
    "    (train_features, val_features, test_features), dim=0\n",
    ")\n",
    "\n",
    "label_mapping = {'1': 0, '2': 1, 'unknown': -1} \n",
    "labels = torch.tensor(classes['label'].map(label_mapping).values, dtype=torch.long)\n",
    "\n",
    "# Create graph data object\n",
    "data = Data(x=node_features, edge_index=edge_index, y=labels)\n",
    "\n",
    "device = torch.device('cuda' if torch.cuda.is_available() else 'cpu')\n",
    "print(device)\n",
    "data = data.to(device)\n"
   ]
  },
  {
   "cell_type": "code",
   "execution_count": 3,
   "metadata": {},
   "outputs": [
    {
     "data": {
      "text/plain": [
       "'time_step_column_index = 0 \\ntime_step = data.x[:, time_step_column_index]\\n\\ntrain_mask = (time_step >= 1) & (time_step <= 34)\\ntest_mask = (time_step >= 35) & (time_step <= 49)\\n\\ntrain_mask = train_mask.clone().detach().to(torch.bool)\\ntest_mask = test_mask.clone().detach().to(torch.bool)'"
      ]
     },
     "execution_count": 3,
     "metadata": {},
     "output_type": "execute_result"
    }
   ],
   "source": [
    "'''time_step_column_index = 0 \n",
    "time_step = data.x[:, time_step_column_index]\n",
    "\n",
    "train_mask = (time_step >= 1) & (time_step <= 34)\n",
    "test_mask = (time_step >= 35) & (time_step <= 49)\n",
    "\n",
    "train_mask = train_mask.clone().detach().to(torch.bool)\n",
    "test_mask = test_mask.clone().detach().to(torch.bool)'''"
   ]
  },
  {
   "cell_type": "code",
   "execution_count": 4,
   "metadata": {},
   "outputs": [],
   "source": [
    "train_mask = (time_step >= 1) & (time_step <= 24)\n",
    "val_mask = (time_step >= 25) & (time_step <= 34)\n",
    "test_mask = (time_step >= 35) & (time_step <= 49)\n",
    "\n",
    "# Ensure the masks are boolean tensors\n",
    "train_mask = train_mask.clone().detach().to(torch.bool)\n",
    "val_mask = val_mask.clone().detach().to(torch.bool)\n",
    "test_mask = test_mask.clone().detach().to(torch.bool)"
   ]
  },
  {
   "cell_type": "code",
   "execution_count": 5,
   "metadata": {
    "scrolled": true
   },
   "outputs": [
    {
     "name": "stdout",
     "output_type": "stream",
     "text": [
      "GCN(\n",
      "  (conv1): GCNConv(166, 100)\n",
      "  (conv2): GCNConv(100, 100)\n",
      "  (fc): Linear(in_features=100, out_features=2, bias=True)\n",
      ")\n",
      "2\n",
      "Epoch   0 | Loss: 0.87 | Acc: 49.93 | Val Loss: 1.0347 | Val Acc: 49.75%% | F1 (Val): 0.0447\n",
      "Epoch  10 | Loss: 0.40 | Acc: 90.60 | Val Loss: 0.8465 | Val Acc: 80.23%% | F1 (Val): 0.0000\n",
      "Epoch  20 | Loss: 0.32 | Acc: 89.88 | Val Loss: 0.5228 | Val Acc: 73.79%% | F1 (Val): 0.4929\n",
      "Epoch  30 | Loss: 0.29 | Acc: 91.95 | Val Loss: 0.5276 | Val Acc: 80.50%% | F1 (Val): 0.5363\n",
      "Epoch  40 | Loss: 0.26 | Acc: 91.75 | Val Loss: 0.5058 | Val Acc: 76.46%% | F1 (Val): 0.5151\n",
      "Epoch  50 | Loss: 0.25 | Acc: 92.00 | Val Loss: 0.4851 | Val Acc: 77.40%% | F1 (Val): 0.5281\n",
      "Epoch  60 | Loss: 0.23 | Acc: 92.67 | Val Loss: 0.4658 | Val Acc: 79.95%% | F1 (Val): 0.5571\n",
      "Epoch  70 | Loss: 0.21 | Acc: 93.31 | Val Loss: 0.4429 | Val Acc: 83.16%% | F1 (Val): 0.6355\n",
      "Epoch  80 | Loss: 0.20 | Acc: 93.83 | Val Loss: 0.4229 | Val Acc: 85.56%% | F1 (Val): 0.6977\n",
      "Epoch  90 | Loss: 0.19 | Acc: 94.18 | Val Loss: 0.4083 | Val Acc: 86.67%% | F1 (Val): 0.7157\n",
      "Epoch 100 | Loss: 0.18 | Acc: 94.56 | Val Loss: 0.3945 | Val Acc: 87.33%% | F1 (Val): 0.7253\n",
      "Epoch 110 | Loss: 0.17 | Acc: 94.86 | Val Loss: 0.3833 | Val Acc: 87.67%% | F1 (Val): 0.7314\n",
      "Epoch 120 | Loss: 0.16 | Acc: 95.23 | Val Loss: 0.3751 | Val Acc: 88.20%% | F1 (Val): 0.7395\n",
      "Epoch 130 | Loss: 0.15 | Acc: 95.54 | Val Loss: 0.3696 | Val Acc: 88.57%% | F1 (Val): 0.7448\n",
      "Epoch 140 | Loss: 0.14 | Acc: 95.85 | Val Loss: 0.3681 | Val Acc: 88.98%% | F1 (Val): 0.7513\n",
      "Epoch 150 | Loss: 0.13 | Acc: 96.13 | Val Loss: 0.3732 | Val Acc: 89.38%% | F1 (Val): 0.7576\n"
     ]
    }
   ],
   "source": [
    "##### Hyperparameters\n",
    "embeddings_length = 100\n",
    "lr = 0.001\n",
    "#weight_decay = 0.001\n",
    "epochs = 151\n",
    "\n",
    "train_losses, val_losses = [], []\n",
    "train_accuracies, val_accuracies = [], []\n",
    "\n",
    "import torch.nn.functional as F\n",
    "\n",
    "class GCN(torch.nn.Module):\n",
    "    def __init__(self, in_channels, hidden_channels, out_channels):\n",
    "        super(GCN, self).__init__()\n",
    "        # First GCN layer (input to hidden)\n",
    "        self.conv1 = GCNConv(in_channels, hidden_channels)\n",
    "        # Second GCN layer (hidden to output, for embeddings)\n",
    "        self.conv2 = GCNConv(hidden_channels, hidden_channels)\n",
    "        # Final output layer for 2-class classification\n",
    "        self.fc = torch.nn.Linear(hidden_channels, out_channels)\n",
    "\n",
    "    def forward(self, x, edge_index):\n",
    "        # First layer\n",
    "        x = self.conv1(x, edge_index)  # Apply GCN\n",
    "        x = F.relu(x)  # Apply ReLU\n",
    "        # Second layer\n",
    "        x = self.conv2(x, edge_index)  # Apply second GCN layer\n",
    "        x = F.relu(x)  # Apply ReLU again\n",
    "\n",
    "        # Extract the node embeddings (size 100)\n",
    "        node_embeddings = x\n",
    "\n",
    "        # Final output layer for classification (2 classes)\n",
    "        out = self.fc(x)\n",
    "\n",
    "        return node_embeddings, out  # Return both embeddings and classification output\n",
    "\n",
    "\n",
    "# Initialize the model\n",
    "num_features = data.x.shape[1]  # Number of features (columns in x)\n",
    "num_classes = 2  # Number of classes (2 in this case)\n",
    "hidden_dim = embeddings_length\n",
    "#model = GCN(in_channels=num_features, num_classes).to(device)\n",
    "model = GCN(in_channels=num_features, hidden_channels=100, out_channels=2)\n",
    "print(model)\n",
    "print(num_classes)\n",
    "\n",
    "# Loss function and optimizer\n",
    "\n",
    "valid_labels = classes['label'].map(label_mapping)\n",
    "valid_labels = valid_labels[valid_labels != -1]  # Exclude 'unknown'\n",
    "\n",
    "# Convert to a PyTorch tensor for use in the loss function\n",
    "class_weights_tensor = torch.tensor([0.7, 0.3], dtype=torch.float).to(device)\n",
    "\n",
    "# Define the loss function with class weights\n",
    "criterion = torch.nn.CrossEntropyLoss(weight=class_weights_tensor).to(device)\n",
    "\n",
    "#criterion = torch.nn.CrossEntropyLoss()\n",
    "optimizer = torch.optim.Adam(model.parameters(), lr=lr)\n",
    "\n",
    "# Accuracy calculation function\n",
    "def accuracy(pred_y, y):\n",
    "    return (pred_y == y).sum() / len(y)\n",
    "\n",
    "def calculate_metrics(y_true, y_pred, target_class=0):\n",
    "    precision = precision_score(y_true, y_pred, pos_label=target_class, zero_division=0)\n",
    "    recall = recall_score(y_true, y_pred, pos_label=target_class, zero_division=0)\n",
    "    f1 = f1_score(y_true, y_pred, pos_label=target_class, zero_division=0)\n",
    "    return precision, recall, f1\n",
    "val_f1_scores = []\n",
    "\n",
    "# Training loop\n",
    "for epoch in range(epochs):\n",
    "    optimizer.zero_grad()\n",
    "    h, z = model(data.x, data.edge_index)  # h: embeddings, z: logits\n",
    "\n",
    "    # Exclude unlabeled nodes from the loss calculation\n",
    "    mask = data.y[train_mask] != -1  \n",
    "    loss = criterion(z[train_mask][mask], data.y[train_mask][mask]) # Compute loss\n",
    "    \n",
    "    loss.backward()                         # Backpropagate\n",
    "    optimizer.step()                        # Update model parameters\n",
    "\n",
    "    acc = accuracy(z[train_mask].argmax(dim=1)[mask], data.y[train_mask][mask])  # Calculate accuracy\n",
    "\n",
    "    model.eval() \n",
    "    with torch.no_grad():\n",
    "        mask_val = data.y[val_mask] != -1  \n",
    "        val_loss = criterion(z[val_mask][mask_val], data.y[val_mask][mask_val])\n",
    "        val_acc = accuracy(z[val_mask].argmax(dim=1)[mask_val], data.y[val_mask][mask_val])\n",
    "\n",
    "        val_y_true = data.y[val_mask][mask_val].cpu().numpy()\n",
    "        val_y_pred = z[val_mask][mask_val].argmax(dim=1).cpu().numpy()\n",
    "        val_precision, val_recall, val_f1 = calculate_metrics(val_y_true, val_y_pred)\n",
    "\n",
    "    train_losses.append(loss.item())\n",
    "    train_accuracies.append(acc.item())\n",
    "    val_losses.append(val_loss.item())\n",
    "    val_accuracies.append(val_acc.item())\n",
    "    val_f1_scores.append(val_f1)\n",
    "    \n",
    "    if epoch % 10 == 0:\n",
    "        print(f'Epoch {epoch:>3} | Loss: {loss:.2f} | Acc: {acc*100:.2f} | Val Loss: {val_loss:.4f} | Val Acc: {val_acc*100:.2f}%% | F1 (Val): {val_f1:.4f}')\n"
   ]
  },
  {
   "cell_type": "code",
   "execution_count": 6,
   "metadata": {},
   "outputs": [
    {
     "data": {
      "image/png": "[encoded data removed]",
      "text/plain": [
       "<Figure size 1200x600 with 2 Axes>"
      ]
     },
     "metadata": {},
     "output_type": "display_data"
    }
   ],
   "source": [
    "import matplotlib.pyplot as plt\n",
    "\n",
    "# Plotting the results\n",
    "plt.figure(figsize=(12, 6))\n",
    "\n",
    "# Plot Losses\n",
    "plt.subplot(1, 2, 1)\n",
    "plt.plot(train_losses, label='Train Loss')\n",
    "plt.plot(val_losses, label='Validation Loss', linestyle='--')\n",
    "plt.xlabel('Epochs')\n",
    "plt.ylabel('Loss')\n",
    "plt.title('Loss vs Epochs')\n",
    "plt.legend()\n",
    "\n",
    "# Plot Accuracies\n",
    "plt.subplot(1, 2, 2)\n",
    "plt.plot(train_accuracies, label='Train Accuracy')\n",
    "plt.plot(val_accuracies, label='Validation Accuracy', linestyle='--')\n",
    "plt.xlabel('Epochs')\n",
    "plt.ylabel('Accuracy')\n",
    "plt.title('Accuracy vs Epochs')\n",
    "plt.legend()\n",
    "\n",
    "plt.tight_layout()\n",
    "plt.show() "
   ]
  },
  {
   "cell_type": "code",
   "execution_count": 7,
   "metadata": {},
   "outputs": [],
   "source": [
    "# Extract node embeddings\n",
    "model.eval()\n",
    "with torch.no_grad():\n",
    "    embeddings, z = model(data.x, data.edge_index)  # h: embeddings\n",
    "\n",
    "# Ensure alignment of txId and labels with embeddings\n",
    "# The order in `data.x` corresponds to `classes['txId']` due to how `all_nodes_dict` was built\n",
    "aligned_df = pd.DataFrame({\n",
    "    'txId': classes['txId'],  # Use the original node order\n",
    "    'time_step': time_step.cpu().numpy(),  # Extract time_step from the GCN input\n",
    "    'label': classes['label']  # Use the original labels\n",
    "})\n",
    "\n",
    "# Add embeddings\n",
    "embeddings_df = pd.concat([aligned_df, pd.DataFrame(embeddings.cpu().numpy())], axis=1)\n",
    "\n",
    "# Save to CSV\n",
    "embeddings_df.to_csv('../data/embeddings_gcn.csv', index=False)\n"
   ]
  },
  {
   "cell_type": "code",
   "execution_count": 20,
   "metadata": {},
   "outputs": [
    {
     "name": "stdout",
     "output_type": "stream",
     "text": [
      "val Accuracy: 89.38%\n",
      "Precision node embeddings (gcn): 0.6900198281559815\n",
      "Recall node embeddings (gcn): 0.8399034593724859\n",
      "F1 node embeddings (gcn): 0.7576197387518142\n"
     ]
    }
   ],
   "source": [
    "from sklearn.ensemble import RandomForestClassifier\n",
    "from sklearn.model_selection import cross_val_score\n",
    "\n",
    "mask_val = data.y[val_mask] != -1  \n",
    "\n",
    "predictions_val = z[val_mask][mask_val].argmax(dim=1).cpu().numpy()\n",
    "true_labels_val = data.y[val_mask][mask_val].cpu().numpy()\n",
    "\n",
    "val_accuracy = accuracy(predictions_val, true_labels_val)\n",
    "precision_ilicit_val = precision_score(true_labels_val, predictions_val, pos_label=0)\n",
    "recall_ilicit_val = recall_score(true_labels_val, predictions_val, pos_label=0)\n",
    "f1_ilicit_val = f1_score(true_labels_val, predictions_val, pos_label=0, zero_division=0)\n",
    "\n",
    "print(f\"val Accuracy: {val_accuracy * 100:.2f}%\")\n",
    "print(f'Precision node embeddings (gcn): {precision_ilicit_val}')\n",
    "print(f'Recall node embeddings (gcn): {recall_ilicit_val}')\n",
    "print(f'F1 node embeddings (gcn): {f1_ilicit_val}')"
   ]
  },
  {
   "cell_type": "code",
   "execution_count": 8,
   "metadata": {},
   "outputs": [
    {
     "name": "stdout",
     "output_type": "stream",
     "text": [
      "Test Accuracy: 88.43%\n",
      "Precision node embeddings (gcn): 0.2396796056685151\n",
      "Recall node embeddings (gcn): 0.3591874422899354\n",
      "F1 node embeddings (gcn): 0.28750923872875095\n"
     ]
    }
   ],
   "source": [
    "from sklearn.ensemble import RandomForestClassifier\n",
    "from sklearn.model_selection import cross_val_score\n",
    "\n",
    "mask_test = data.y[test_mask] != -1 \n",
    "\n",
    "predictions = z[test_mask][mask_test].argmax(dim=1).cpu().numpy()\n",
    "true_labels = data.y[test_mask][mask_test].cpu().numpy()\n",
    "\n",
    "test_accuracy = accuracy(predictions, true_labels)\n",
    "precision_ilicit_test = precision_score(true_labels, predictions, pos_label=0)\n",
    "recall_ilicit_test = recall_score(true_labels, predictions, pos_label=0)\n",
    "f1_ilicit_test = f1_score(true_labels, predictions, pos_label=0, zero_division=0)\n",
    "\n",
    "print(f\"Test Accuracy: {test_accuracy * 100:.2f}%\")\n",
    "print(f'Precision node embeddings (gcn): {precision_ilicit_test}')\n",
    "print(f'Recall node embeddings (gcn): {recall_ilicit_test}')\n",
    "print(f'F1 node embeddings (gcn): {f1_ilicit_test}')"
   ]
  },
  {
   "cell_type": "code",
   "execution_count": 9,
   "metadata": {},
   "outputs": [],
   "source": [
    "embeddings_df.drop(embeddings_df[embeddings_df[\"label\"] == \"unknown\"].index, inplace=True)\n",
    "y = embeddings_df['label']\n",
    "X = embeddings_df.drop(columns=['label'])"
   ]
  },
  {
   "cell_type": "code",
   "execution_count": 10,
   "metadata": {},
   "outputs": [],
   "source": [
    "X_train_gcn = X[X['time_step'].between(1, 34)]\n",
    "y_train_gcn = y[X['time_step'].between(1, 34)]\n",
    "\n",
    "X_test_gcn = X[X['time_step'].between(35, 49)]\n",
    "y_test_gcn = y[X['time_step'].between(35, 49)]"
   ]
  },
  {
   "cell_type": "code",
   "execution_count": 11,
   "metadata": {},
   "outputs": [],
   "source": [
    "X_train_gcn = X_train_gcn.drop(columns=['time_step','txId'])\n",
    "X_test_gcn = X_test_gcn.drop(columns=['time_step','txId'])"
   ]
  },
  {
   "cell_type": "code",
   "execution_count": 12,
   "metadata": {},
   "outputs": [
    {
     "name": "stdout",
     "output_type": "stream",
     "text": [
      "Precision node embeddings (gcn): 0.7049180327868853\n",
      "Recall node embeddings (gcn): 0.15881809787626963\n",
      "F1 node embeddings (gcn): 0.2592313489073097\n",
      "Cross-validated F1 Score node embeddings (gcn): 0.6552824494485825\n"
     ]
    }
   ],
   "source": [
    "from sklearn.ensemble import RandomForestClassifier\n",
    "from sklearn.metrics import confusion_matrix, precision_score, recall_score, f1_score, make_scorer\n",
    "from sklearn.model_selection import cross_val_score\n",
    "\n",
    "clf_gcn = RandomForestClassifier(n_estimators = 100, random_state=42)  \n",
    "clf_gcn.fit(X_train_gcn, y_train_gcn)\n",
    "y_pred_gcn = clf_gcn.predict(X_test_gcn)\n",
    "\n",
    "precision_ilicit_gcn = precision_score(y_test_gcn, y_pred_gcn, pos_label='1')\n",
    "recall_ilicit_gcn = recall_score(y_test_gcn, y_pred_gcn, pos_label='1')\n",
    "f1_ilicit_gcn = f1_score(y_test_gcn, y_pred_gcn, pos_label='1')\n",
    "f1_scorer_gcn = make_scorer(f1_score, pos_label='1')\n",
    "scores_gcn = cross_val_score(clf_gcn, X_train_gcn, y_train_gcn, cv=5, scoring=f1_scorer_gcn)\n",
    "\n",
    "print(f'Precision node embeddings (gcn): {precision_ilicit_gcn}')\n",
    "print(f'Recall node embeddings (gcn): {recall_ilicit_gcn}')\n",
    "print(f'F1 node embeddings (gcn): {f1_ilicit_gcn}')\n",
    "print(\"Cross-validated F1 Score node embeddings (gcn):\", scores_gcn.mean())"
   ]
  },
  {
   "cell_type": "code",
   "execution_count": 13,
   "metadata": {},
   "outputs": [
    {
     "data": {
      "text/plain": [
       "(29894, 100)"
      ]
     },
     "execution_count": 13,
     "metadata": {},
     "output_type": "execute_result"
    }
   ],
   "source": [
    "X_train_gcn.shape"
   ]
  },
  {
   "cell_type": "code",
   "execution_count": 14,
   "metadata": {},
   "outputs": [
    {
     "name": "stdout",
     "output_type": "stream",
     "text": [
      "Illicit (class 0): 4545\n",
      "Licit (class 1): 42019\n"
     ]
    }
   ],
   "source": [
    "# Remove the unknown (-1) labels by masking them out\n",
    "valid_labels = labels[labels != -1]\n",
    "\n",
    "# Count the occurrences of each valid label (0 for illicit, 1 for licit)\n",
    "label_counts = torch.bincount(valid_labels)\n",
    "\n",
    "# Print the counts for each label\n",
    "print(f\"Illicit (class 0): {label_counts[0].item()}\")\n",
    "print(f\"Licit (class 1): {label_counts[1].item()}\")"
   ]
  },
  {
   "cell_type": "code",
   "execution_count": 15,
   "metadata": {},
   "outputs": [
    {
     "name": "stdout",
     "output_type": "stream",
     "text": [
      "Training set size: 108950\n",
      "Validation set size: 27315\n",
      "Test set size: 67504\n"
     ]
    }
   ],
   "source": [
    "train_size = (train_mask).sum().item()\n",
    "val_size = (val_mask).sum().item()\n",
    "test_size = (test_mask).sum().item()\n",
    "\n",
    "# Print the sizes of the sets\n",
    "print(f\"Training set size: {train_size}\")\n",
    "print(f\"Validation set size: {val_size}\")\n",
    "print(f\"Test set size: {test_size}\")"
   ]
  },
  {
   "cell_type": "code",
   "execution_count": 16,
   "metadata": {},
   "outputs": [],
   "source": [
    "import torch\n",
    "\n",
    "# Substituir os valores de 'unknown' (-1) por um valor maior para não interferir na contagem das classes 0 e 1\n",
    "labels_modified = labels.clone()\n",
    "labels_modified[labels == -1] = 2  # Substitui -1 por 2, por exemplo\n",
    "\n",
    "# Calcular a frequência das classes para ajustar os pesos\n",
    "class_counts = torch.bincount(labels_modified)\n",
    "total_samples = len(labels)\n",
    "class_weights = total_samples / (len(class_counts) * class_counts.float())\n",
    "\n",
    "# Definir os pesos para as classes 0 e 1 (ignorando a classe 'unknown' que foi mapeada para 2)\n",
    "weights = class_weights[:2]  # Apenas as classes 0 e 1\n"
   ]
  },
  {
   "cell_type": "code",
   "execution_count": 17,
   "metadata": {},
   "outputs": [
    {
     "data": {
      "text/plain": [
       "tensor([14.9446,  1.6165])"
      ]
     },
     "execution_count": 17,
     "metadata": {},
     "output_type": "execute_result"
    }
   ],
   "source": [
    "weights"
   ]
  },
  {
   "cell_type": "code",
   "execution_count": 18,
   "metadata": {},
   "outputs": [
    {
     "data": {
      "text/plain": [
       "tensor([  4545,  42019, 157205])"
      ]
     },
     "execution_count": 18,
     "metadata": {},
     "output_type": "execute_result"
    }
   ],
   "source": [
    "class_counts"
   ]
  },
  {
   "cell_type": "code",
   "execution_count": null,
   "metadata": {},
   "outputs": [],
   "source": []
  }
 ],
 "metadata": {
  "kernelspec": {
   "display_name": "Python 3 (ipykernel)",
   "language": "python",
   "name": "python3"
  },
  "language_info": {
   "codemirror_mode": {
    "name": "ipython",
    "version": 3
   },
   "file_extension": ".py",
   "mimetype": "text/x-python",
   "name": "python",
   "nbconvert_exporter": "python",
   "pygments_lexer": "ipython3",
   "version": "3.12.1"
  }
 },
 "nbformat": 4,
 "nbformat_minor": 4
}
