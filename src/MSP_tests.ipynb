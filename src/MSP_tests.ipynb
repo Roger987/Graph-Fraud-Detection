{
 "cells": [
  {
   "cell_type": "markdown",
   "metadata": {},
   "source": [
    "### Calculate the errors of our approximations"
   ]
  },
  {
   "cell_type": "code",
   "execution_count": 34,
   "metadata": {},
   "outputs": [
    {
     "name": "stdout",
     "output_type": "stream",
     "text": [
      "Percentage of nodes with a distance from E[v] higher than 2: 0.8696121589%\n"
     ]
    }
   ],
   "source": [
    "def load_node_values(file_path):\n",
    "    node_values = []\n",
    "    with open(file_path, 'r') as file:\n",
    "        for line in file:\n",
    "            parts = line.strip().split(':')\n",
    "            node = int(parts[0].split()[1])\n",
    "            value = float(parts[1])\n",
    "            node_values.append(value)\n",
    "    return node_values\n",
    "\n",
    "threshold_broken=[]\n",
    "def calculate_percentage_difference(approximated_file, exact_file, threshold=1):\n",
    "\n",
    "    approximated_values = load_node_values(approximated_file)\n",
    "    exact_values = load_node_values(exact_file)\n",
    "    #print(approximated_values[0])\n",
    "    total_nodes = len(exact_values)\n",
    "    if total_nodes == 0:\n",
    "        raise ValueError(\"Invalid file\")\n",
    "    \n",
    "    count_exceeding_threshold = 0\n",
    "    \n",
    "    for i in range(len(exact_values)):\n",
    "        difference = abs(approximated_values[i] - exact_values[i])\n",
    "        if difference > threshold:\n",
    "            count_exceeding_threshold += 1\n",
    "            threshold_broken.append(1)\n",
    "        else:\n",
    "            threshold_broken.append(0)\n",
    "    \n",
    "    percentage = (count_exceeding_threshold / total_nodes) * 100\n",
    "    return percentage\n",
    "\n",
    "approximated_file = '../data/shortest_path_30.txt'  \n",
    "exact_file = '../data/shortest_path_exact.txt'               \n",
    "\n",
    "percent = calculate_percentage_difference(approximated_file, exact_file)\n",
    "print(f\"Percentage of nodes with a distance from E[v] higher than 2: {percent:.10f}%\")\n",
    "#print(threshold_broken)\n"
   ]
  },
  {
   "cell_type": "code",
   "execution_count": null,
   "metadata": {},
   "outputs": [
    {
     "name": "stdout",
     "output_type": "stream",
     "text": [
      "Il valore massimo è 702.1076876604742, trovato nel Node 14694.\n"
     ]
    }
   ],
   "source": [
    "file_path = '../data/shortest_path_exact.txt'\n",
    "\n",
    "max_value = float('-inf')\n",
    "max_node = None\n",
    "\n",
    "with open(file_path, 'r') as file:\n",
    "    for line in file:\n",
    "        parts = line.split(':')\n",
    "        if len(parts) == 2:\n",
    "            node = parts[0].strip()\n",
    "            value = float(parts[1].strip())\n",
    "            if value > max_value:\n",
    "                max_value = value\n",
    "                max_node = node\n",
    "\n",
    "print(f'Max mean shortest path is {max_value}, for node {max_node}.')\n"
   ]
  }
 ],
 "metadata": {
  "kernelspec": {
   "display_name": "Python 3",
   "language": "python",
   "name": "python3"
  },
  "language_info": {
   "codemirror_mode": {
    "name": "ipython",
    "version": 3
   },
   "file_extension": ".py",
   "mimetype": "text/x-python",
   "name": "python",
   "nbconvert_exporter": "python",
   "pygments_lexer": "ipython3",
   "version": "3.11.0"
  }
 },
 "nbformat": 4,
 "nbformat_minor": 2
}
