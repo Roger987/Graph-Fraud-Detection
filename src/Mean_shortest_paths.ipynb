{
 "cells": [
  {
   "cell_type": "code",
   "execution_count": 40,
   "metadata": {},
   "outputs": [],
   "source": [
    "import pandas as pd\n",
    "import numpy as np\n",
    "import igraph as ig\n",
    "from tqdm import tqdm\n",
    "import networkx as nx\n",
    "import matplotlib.pyplot as plt\n",
    "import random"
   ]
  },
  {
   "cell_type": "code",
   "execution_count": null,
   "metadata": {},
   "outputs": [],
   "source": [
    "classes_path = \"../elliptic_bitcoin_dataset/elliptic_txs_classes.csv\"\n",
    "edges_path = \"../elliptic_bitcoin_dataset/elliptic_txs_edgelist.csv\"\n",
    "features_path = \"../elliptic_bitcoin_dataset/elliptic_txs_features.csv\"\n",
    "\n",
    "classes = pd.read_csv(classes_path)\n",
    "edges = pd.read_csv(edges_path)\n",
    "feat_cols = ['txId', 'time_step'] + [f'trans_feat_{i}' for i in range(93)] + [f'agg_feat_{i}' for i in range(72)]\n",
    "feats = pd.read_csv(features_path, header=None, names=feat_cols)\n",
    "classes.columns = ['txId', 'label']\n",
    "df = classes.set_index('txId').join(feats.set_index('txId'))\n",
    "df.head(10)"
   ]
  },
  {
   "cell_type": "code",
   "execution_count": null,
   "metadata": {},
   "outputs": [],
   "source": [
    "label_colors = {'1':'red', '2':'green', 'unknown':'white'}\n",
    "\n",
    "tx_graph = ig.Graph(directed=False)\n",
    "\n",
    "edges_dict = {tx_id: i for i, tx_id in enumerate(classes['txId'])}\n",
    "\n",
    "tx_graph.add_vertices(len(classes))\n",
    "tx_graph.vs['id'] = list(classes['txId'])\n",
    "tx_graph.vs['type'] = list(classes['label'])\n",
    "tx_graph.vs['time_step'] = list(feats['time_step'])\n",
    "tx_graph.vs['color'] = [label_colors[label] for label in classes['label']]\n",
    "\n",
    "edges_list = [(edges_dict[edges['txId1'][i]], edges_dict[edges['txId2'][i]]) for i in tqdm(range(len(edges)))]\n",
    "tx_graph.add_edges(edges_list)\n"
   ]
  },
  {
   "cell_type": "code",
   "execution_count": null,
   "metadata": {},
   "outputs": [],
   "source": [
    "# Leggi i risultati dal file 'results.txt' e trova i 50 valori più alti\n",
    "values = []\n",
    "import statistics\n",
    "\n",
    "# Lista per memorizzare i valori\n",
    "values_var = []\n",
    "\n",
    "# Leggi i valori dal file\n",
    "with open('../data/shortest_path_exact.txt', 'r') as file:\n",
    "    for line in file:\n",
    "        # Estrai il valore dalla riga\n",
    "        parts = line.strip().split(': ')\n",
    "        value = float(parts[1])  # Converti il valore in float\n",
    "        values_var.append(value)\n",
    "\n",
    "# Calcola la varianza\n",
    "average = statistics.mean(values_var)\n",
    "variance = statistics.variance(values_var)\n",
    "\n",
    "variance_updated = 0\n",
    "with open('../data/shortest_path_exact.txt', 'r') as file:\n",
    "    for line in file:\n",
    "        # Estrai il valore dalla riga\n",
    "        parts = line.strip().split(': ')\n",
    "        value = float(parts[1])  # Converti il valore in float\n",
    "        variance_updated += ((value-average)*(value-average))\n",
    "\n",
    "# Stampa la varianza\n",
    "print(average)\n",
    "print(f\"La varianza dei risultati è: {variance}\")\n",
    "print(\"La varianza ricalcolata\",variance_updated/len(values_var))\n",
    "\n",
    "with open('../data/shortest_path_exact.txt', 'r') as file:\n",
    "    for line in file:\n",
    "        # Split della riga per ottenere il nodo e il valore\n",
    "        parts = line.strip().split(': ')\n",
    "        node = int(parts[0].split()[1])  # Estrai il nodo dal formato \"Node X\"\n",
    "        value = float(parts[1])  # Converti il valore in float\n",
    "\n",
    "        # Aggiungi una tupla (nodo, valore) alla lista\n",
    "        values.append((node, value))\n",
    "\n",
    "# Ordina i valori in ordine decrescente\n",
    "values.sort(key=lambda x: x[1], reverse=True)\n",
    "\n",
    "# Prendi i primi 50 valori più alti\n",
    "top_50 = values[:5000]\n",
    "\n",
    "# Stampa i 50 valori più alti\n"
   ]
  },
  {
   "cell_type": "code",
   "execution_count": null,
   "metadata": {},
   "outputs": [],
   "source": [
    "approximated_variance = []\n",
    "max_path = float('-inf')\n",
    "def approximated_mean_shortest_path_igraph(graph, sample_size_percentage):\n",
    "    mean_shortest_paths = {}\n",
    "    global max_path\n",
    "    # Total number of nodes in the graph\n",
    "    nodes = list(range(graph.vcount()))\n",
    "    sample_size = int(len(nodes)*sample_size_percentage/100)\n",
    "    print(\"Coreset size:\",sample_size)\n",
    "    count=0\n",
    "    # Sample a subset of nodes to approximate the mean\n",
    "    sampled_nodes = nodes if len(nodes) <= sample_size else random.sample(nodes, sample_size)\n",
    "\n",
    "    for node in nodes:\n",
    "        print(count)\n",
    "        count +=1\n",
    "\n",
    "        # Calculate shortest paths from the current node to sampled nodes\n",
    "        distances = graph.shortest_paths(source=node, target=sampled_nodes)[0]\n",
    "\n",
    "        # Exclude unreachable nodes (distance == infinity)\n",
    "        reachable_distances = [d for d in distances if d != float('inf')]\n",
    "\n",
    "        # Compute mean shortest path for the node\n",
    "        if reachable_distances:\n",
    "            mean_shortest_paths[node] = sum(reachable_distances) / len(reachable_distances)\n",
    "            max_shortest=max(reachable_distances)\n",
    "            if max_shortest>max_path:\n",
    "                max_path=max_shortest\n",
    "            approximated_variance.append(statistics.variance(reachable_distances))\n",
    "        else:\n",
    "            mean_shortest_paths[node] = float('inf')  \n",
    "\n",
    "    return mean_shortest_paths\n",
    "\n",
    "results = approximated_mean_shortest_path_igraph(tx_graph, 100)"
   ]
  },
  {
   "cell_type": "code",
   "execution_count": null,
   "metadata": {},
   "outputs": [],
   "source": [
    "print(\"maximum variance between the ones of the single nodes:\", max(approximated_variance))\n",
    "print(\"mean variance (can't be used for our inequality:\", statistics.mean(approximated_variance))\n",
    "print(\"longhest path:\", max_path)"
   ]
  },
  {
   "cell_type": "code",
   "execution_count": 46,
   "metadata": {},
   "outputs": [],
   "source": [
    "with open('../data/shortest_path_10.txt', 'w') as file:\n",
    "    for node, mean in results.items():\n",
    "        file.write(f\"Node {node}: {mean}\\n\")"
   ]
  }
 ],
 "metadata": {
  "kernelspec": {
   "display_name": "Python 3",
   "language": "python",
   "name": "python3"
  },
  "language_info": {
   "codemirror_mode": {
    "name": "ipython",
    "version": 3
   },
   "file_extension": ".py",
   "mimetype": "text/x-python",
   "name": "python",
   "nbconvert_exporter": "python",
   "pygments_lexer": "ipython3",
   "version": "3.11.0"
  }
 },
 "nbformat": 4,
 "nbformat_minor": 4
}
