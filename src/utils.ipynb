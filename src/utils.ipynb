{
 "cells": [
  {
   "cell_type": "code",
   "execution_count": null,
   "id": "f88f60be-db55-4cf7-9eb2-bbd42238f11d",
   "metadata": {},
   "outputs": [],
   "source": [
    "import igraph as ig\n",
    "import networkx as nx\n",
    "import matplotlib.pyplot as plt\n",
    "import numpy as np"
   ]
  },
  {
   "cell_type": "code",
   "execution_count": null,
   "id": "84824fbb-417d-4434-8db6-801855e44fbb",
   "metadata": {},
   "outputs": [],
   "source": [
    "from igraph import Graph, Layout\n",
    "import igraph as ig\n",
    "karate = Graph.Famous(\"Zachary\")\n",
    "layout = karate.layout_kamada_kawai()\n",
    "visual_style={\"bbox\": (300, 300), \"margin\": 15, \"layout\": layout}\n",
    "\n",
    "cl = karate.community_fastgreedy()\n",
    "membership = cl.as_clustering().membership\n",
    "pal = ig.drawing.colors.ClusterColoringPalette(len(membership))\n",
    "karate.vs[\"color\"] = pal.get_many(cl.as_clustering().membership)\n",
    "karate.vs[\"size\"] = 15"
   ]
  },
  {
   "cell_type": "code",
   "execution_count": null,
   "id": "afb1a578-b852-4ef9-bc16-19771f2d58fa",
   "metadata": {},
   "outputs": [],
   "source": [
    "import matplotlib.pyplot as plt\n",
    "fig, ax = plt.subplots()\n",
    "ig.plot(karate, target=ax)"
   ]
  },
  {
   "cell_type": "code",
   "execution_count": null,
   "id": "c2866694-5baf-4964-9bd5-85ff2cf05a86",
   "metadata": {},
   "outputs": [],
   "source": [
    "centralities = karate.closeness()\n",
    "karate.vs['size'] = [c * 50 for c in centralities]\n",
    "\n",
    "fig, ax = plt.subplots()\n",
    "ig.plot(\n",
    "    karate, \n",
    "    target=ax,\n",
    "    edge_width=0.1\n",
    ")"
   ]
  },
  {
   "cell_type": "code",
   "execution_count": null,
   "id": "52fac074-8ec2-49e6-ace5-06bb08815979",
   "metadata": {},
   "outputs": [],
   "source": [
    "karate.betweenness()"
   ]
  },
  {
   "cell_type": "code",
   "execution_count": null,
   "id": "c968ef81-cbf6-4f92-bd46-5dedffb68e60",
   "metadata": {},
   "outputs": [],
   "source": [
    "karate.degree()"
   ]
  },
  {
   "cell_type": "code",
   "execution_count": null,
   "id": "f0df4985-76df-4f5d-859d-afb1dd72f92f",
   "metadata": {},
   "outputs": [],
   "source": [
    "karate.closeness()"
   ]
  },
  {
   "cell_type": "code",
   "execution_count": null,
   "id": "7ee07a73",
   "metadata": {},
   "outputs": [],
   "source": [
    "shortest_path = karate.shortest_paths(source=None, target=None, mode='ALL')\n",
    "mean_shortest_path = [np.mean(array) for array in shortest_path]\n",
    "print(f\"Mean shortest path: {mean_shortest_path}\")"
   ]
  },
  {
   "cell_type": "code",
   "execution_count": null,
   "id": "65beadd8",
   "metadata": {},
   "outputs": [],
   "source": [
    "karate.closeness()"
   ]
  }
 ],
 "metadata": {
  "kernelspec": {
   "display_name": "Python 3",
   "language": "python",
   "name": "python3"
  },
  "language_info": {
   "codemirror_mode": {
    "name": "ipython",
    "version": 3
   },
   "file_extension": ".py",
   "mimetype": "text/x-python",
   "name": "python",
   "nbconvert_exporter": "python",
   "pygments_lexer": "ipython3",
   "version": "3.11.0"
  }
 },
 "nbformat": 4,
 "nbformat_minor": 5
}
